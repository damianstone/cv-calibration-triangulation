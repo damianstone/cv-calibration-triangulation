{
 "cells": [
  {
   "cell_type": "markdown",
   "metadata": {},
   "source": [
    "## Intrinsic parameter for a single camera\n",
    "Output: intrinsic matrix K and distortion coefficients D"
   ]
  },
  {
   "cell_type": "code",
   "execution_count": 2,
   "metadata": {},
   "outputs": [],
   "source": [
    "import matplotlib.pyplot as plt\n",
    "import numpy as np\n",
    "import cv2 as cv\n",
    "import glob\n",
    "import sys\n",
    "\n",
    "if '/Users/damianstone/Documents/Code/tennis-project/post-triangulation/' not in sys.path:\n",
    "  sys.path.append('/Users/damianstone/Documents/Code/tennis-project/post-triangulation/')\n"
   ]
  },
  {
   "cell_type": "code",
   "execution_count": 1,
   "metadata": {},
   "outputs": [],
   "source": [
    "def print_image(imread_img):\n",
    "  img = cv.cvtColor(imread_img, cv.COLOR_BGR2RGB)\n",
    "  plt.imshow(img)\n",
    "  plt.axis('off')\n",
    "  plt.show()"
   ]
  },
  {
   "cell_type": "code",
   "execution_count": null,
   "metadata": {},
   "outputs": [],
   "source": []
  }
 ],
 "metadata": {
  "kernelspec": {
   "display_name": "venv-tp",
   "language": "python",
   "name": "python3"
  },
  "language_info": {
   "codemirror_mode": {
    "name": "ipython",
    "version": 3
   },
   "file_extension": ".py",
   "mimetype": "text/x-python",
   "name": "python",
   "nbconvert_exporter": "python",
   "pygments_lexer": "ipython3",
   "version": "3.12.0"
  }
 },
 "nbformat": 4,
 "nbformat_minor": 2
}
