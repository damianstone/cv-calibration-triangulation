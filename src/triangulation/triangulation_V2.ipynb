{
 "cells": [
  {
   "cell_type": "code",
   "execution_count": 1,
   "metadata": {},
   "outputs": [],
   "source": [
    "import cv2\n",
    "import numpy as np\n",
    "import os\n",
    "import glob\n",
    "import json\n",
    "import shutil\n",
    "from pathlib import Path\n",
    "from tqdm import tqdm\n",
    "\n",
    "def find_project_root(marker=\".gitignore\"):\n",
    "    current = Path.cwd()\n",
    "    for parent in [current] + list(current.parents):\n",
    "        if (parent / marker).exists():\n",
    "            return parent.resolve()\n",
    "    raise FileNotFoundError(\n",
    "        f\"Project root marker '{marker}' not found starting from {current}\")"
   ]
  },
  {
   "cell_type": "code",
   "execution_count": 2,
   "metadata": {},
   "outputs": [],
   "source": [
    "root = find_project_root()\n",
    "\n",
    "intrinsic_path = os.path.join(root, \"output\", \"intrinsic_params.json\")\n",
    "with open(intrinsic_path, \"r\") as f:\n",
    "    intrinsics = json.load(f)\n",
    "\n",
    "extrinsic_path = os.path.join(root, \"output\", \"keep_best_stereo_params.json\")\n",
    "with open(extrinsic_path, \"r\") as f:\n",
    "    stereo_extrinsics = json.load(f)\n",
    "    \n",
    "full_stereo_params_path = os.path.join(root, \"output\", \"full_stereo_params.json\")\n",
    "with open(full_stereo_params_path, \"r\") as f:\n",
    "    full_stereo_params = json.load(f)"
   ]
  },
  {
   "cell_type": "markdown",
   "metadata": {},
   "source": [
    "## Input\n",
    "- 2D ball points from left and right CAM A, same frame\n",
    "- K and D of left and right A\n",
    "- full stereo transform to align the stereos"
   ]
  },
  {
   "cell_type": "code",
   "execution_count": null,
   "metadata": {},
   "outputs": [],
   "source": []
  },
  {
   "cell_type": "markdown",
   "metadata": {},
   "source": [
    "## Pipeline\n",
    "- Undistort 2D points (from both cameras)\n",
    "- Build projection matrices\n",
    "- Triangulate 3D point\n",
    "- Reproject back to each camera to check error\n",
    "\n"
   ]
  },
  {
   "cell_type": "markdown",
   "metadata": {},
   "source": []
  }
 ],
 "metadata": {
  "kernelspec": {
   "display_name": "venv-tp",
   "language": "python",
   "name": "python3"
  },
  "language_info": {
   "codemirror_mode": {
    "name": "ipython",
    "version": 3
   },
   "file_extension": ".py",
   "mimetype": "text/x-python",
   "name": "python",
   "nbconvert_exporter": "python",
   "pygments_lexer": "ipython3",
   "version": "3.12.0"
  }
 },
 "nbformat": 4,
 "nbformat_minor": 2
}
