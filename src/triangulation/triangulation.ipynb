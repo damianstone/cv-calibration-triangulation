{
 "cells": [
  {
   "cell_type": "code",
   "execution_count": 2,
   "metadata": {},
   "outputs": [],
   "source": [
    "import cv2\n",
    "import numpy as np\n",
    "import os\n",
    "import glob\n",
    "import json\n",
    "import shutil\n",
    "from pathlib import Path\n",
    "from tqdm import tqdm\n",
    "\n",
    "def find_project_root(marker=\".gitignore\"):\n",
    "    current = Path.cwd()\n",
    "    for parent in [current] + list(current.parents):\n",
    "        if (parent / marker).exists():\n",
    "            return parent.resolve()\n",
    "    raise FileNotFoundError(\n",
    "        f\"Project root marker '{marker}' not found starting from {current}\")\n",
    "    "
   ]
  },
  {
   "cell_type": "code",
   "execution_count": 3,
   "metadata": {},
   "outputs": [],
   "source": [
    "root = find_project_root()\n",
    "\n",
    "intrinsic_path = os.path.join(root, \"output\", \"intrinsic_params.json\")\n",
    "with open(intrinsic_path, \"r\") as f:\n",
    "    intrinsics = json.load(f)\n",
    "\n",
    "extrinsic_path = os.path.join(root, \"output\", \"keep_best_stereo_params.json\")\n",
    "with open(extrinsic_path, \"r\") as f:\n",
    "    stereo_extrinsics = json.load(f)"
   ]
  },
  {
   "cell_type": "code",
   "execution_count": 8,
   "metadata": {},
   "outputs": [
    {
     "name": "stdout",
     "output_type": "stream",
     "text": [
      "P_left shape: (3, 4)\n",
      "P_right shape: (3, 4)\n",
      "3D Ball Position from Stereo Pair 1: [514.42968782 169.43526952 250.46766262]\n"
     ]
    }
   ],
   "source": [
    "\n",
    "def compute_projection_matrix(K, R, t):\n",
    "    # Ensure t has shape (3,1)\n",
    "    t = t.reshape(3, 1)\n",
    "    # Stack R (3x3) and t (3x1) to form a 3x4 matrix\n",
    "    RT = np.hstack((R, t))\n",
    "    P = K @ RT\n",
    "    return P.astype(np.float32)\n",
    "\n",
    "def triangulate_ball_position(P_left, P_right, pt_left, pt_right):\n",
    "    # Convert points to homogeneous coordinates (2x1 vectors)\n",
    "    pt_left_hom = np.array([[pt_left[0]], [pt_left[1]], [1.0]])\n",
    "    pt_right_hom = np.array([[pt_right[0]], [pt_right[1]], [1.0]])\n",
    "    \n",
    "    # Triangulate using OpenCV\n",
    "    pts_4d_hom = cv2.triangulatePoints(P_left, P_right, pt_left_hom[:2], pt_right_hom[:2])\n",
    "    # Convert from homogeneous coordinates to 3D\n",
    "    pts_3d = pts_4d_hom / pts_4d_hom[3]\n",
    "    return pts_3d[:3].flatten()\n",
    "\n",
    "\n",
    "K_left1 = np.array(intrinsics[\"LEFT_CAM_A\"][\"K\"])\n",
    "K_right1 = np.array(intrinsics[\"RIGHT_CAM_A\"][\"K\"])\n",
    "\n",
    "R_left1 = np.array(stereo_extrinsics[\"stereo_left\"][\"rotation_matrix\"])\n",
    "t_left1 = np.array(stereo_extrinsics[\"stereo_left\"][\"translation_vector\"])\n",
    "\n",
    "R_right1 = np.array(stereo_extrinsics[\"stereo_right\"][\"rotation_matrix\"])\n",
    "t_right1 = np.array(stereo_extrinsics[\"stereo_right\"][\"translation_vector\"])\n",
    "\n",
    "P_left_pair1 = compute_projection_matrix(K_left1, R_left1, t_left1)\n",
    "P_right_pair1 = compute_projection_matrix(K_right1, R_right1, t_right1)\n",
    "\n",
    "print(\"P_left shape:\", P_left_pair1.shape)\n",
    "print(\"P_right shape:\", P_right_pair1.shape)\n",
    "\n",
    "\n",
    "pt_left_pair1 = (100, 150) \n",
    "pt_right_pair1 = (110, 148)\n",
    "\n",
    "ball_pos_pair1 = triangulate_ball_position(P_left_pair1, P_right_pair1, pt_left_pair1, pt_right_pair1)\n",
    "print(\"3D Ball Position from Stereo Pair 1:\", ball_pos_pair1)"
   ]
  },
  {
   "cell_type": "code",
   "execution_count": 7,
   "metadata": {},
   "outputs": [
    {
     "name": "stdout",
     "output_type": "stream",
     "text": [
      "Reprojected point in left image: [ 73.43574523 559.82038481]\n",
      "Reprojected point in right image: [-1060.03875926  4567.83726533]\n"
     ]
    }
   ],
   "source": [
    "def reproject_3d_point(P, point3d):\n",
    "    # Convert to homogeneous coordinates: (X, Y, Z) -> (X, Y, Z, 1)\n",
    "    point3d_hom = np.append(point3d, 1)\n",
    "    # Project: (3x4) * (4x1) = (3x1)\n",
    "    point2d_hom = P @ point3d_hom\n",
    "    # Normalize: (x, y, w) -> (x/w, y/w)\n",
    "    point2d = point2d_hom[:2] / point2d_hom[2]\n",
    "    return point2d\n",
    "\n",
    "# Reproject using the left and right projection matrices:\n",
    "reproj_left = reproject_3d_point(P_left_pair1, ball_pos_pair1)\n",
    "reproj_right = reproject_3d_point(P_right_pair1, ball_pos_pair1)\n",
    "\n",
    "print(\"Reprojected point in left image:\", reproj_left)\n",
    "print(\"Reprojected point in right image:\", reproj_right)"
   ]
  }
 ],
 "metadata": {
  "kernelspec": {
   "display_name": "venv-tp",
   "language": "python",
   "name": "python3"
  },
  "language_info": {
   "codemirror_mode": {
    "name": "ipython",
    "version": 3
   },
   "file_extension": ".py",
   "mimetype": "text/x-python",
   "name": "python",
   "nbconvert_exporter": "python",
   "pygments_lexer": "ipython3",
   "version": "3.12.0"
  }
 },
 "nbformat": 4,
 "nbformat_minor": 2
}
