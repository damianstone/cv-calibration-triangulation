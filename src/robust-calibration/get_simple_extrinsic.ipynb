{
 "cells": [
  {
   "cell_type": "code",
   "execution_count": 1,
   "metadata": {},
   "outputs": [],
   "source": [
    "import sys\n",
    "\n",
    "if '/Users/damianstone/Documents/Code/tennis-project/post-triangulation/' not in sys.path:\n",
    "  sys.path.append('/Users/damianstone/Documents/Code/tennis-project/post-triangulation/')"
   ]
  },
  {
   "cell_type": "code",
   "execution_count": 2,
   "metadata": {},
   "outputs": [],
   "source": [
    "import cv2 as cv\n",
    "import numpy as np\n",
    "import glob\n",
    "import json\n",
    "\n",
    "BASE_PATH = '/Users/damianstone/Documents/Code/tennis-project/post-triangulation/'\n",
    "IMAGE_BASE_PATH = f'{BASE_PATH}/images/'\n",
    "INTRINSIC_PARAMS_FILE_NAME = 'intrinsic_params.json'"
   ]
  },
  {
   "cell_type": "code",
   "execution_count": null,
   "metadata": {},
   "outputs": [],
   "source": [
    "# load intrinsic parameters\n",
    "with open(f'{BASE_PATH}/data/{INTRINSIC_PARAMS_FILE_NAME}', \"r\") as file:\n",
    "    camera_data = json.load(file)\n",
    "\n",
    "camera_data"
   ]
  },
  {
   "cell_type": "code",
   "execution_count": 3,
   "metadata": {},
   "outputs": [
    {
     "ename": "NameError",
     "evalue": "name 'img_files_left1' is not defined",
     "output_type": "error",
     "traceback": [
      "\u001b[0;31m---------------------------------------------------------------------------\u001b[0m",
      "\u001b[0;31mNameError\u001b[0m                                 Traceback (most recent call last)",
      "Cell \u001b[0;32mIn[3], line 2\u001b[0m\n\u001b[1;32m      1\u001b[0m \u001b[38;5;66;03m# ----- Determine image size (assumes all images are the same size) -----\u001b[39;00m\n\u001b[0;32m----> 2\u001b[0m sample_img \u001b[38;5;241m=\u001b[39m cv\u001b[38;5;241m.\u001b[39mimread(\u001b[43mimg_files_left1\u001b[49m[\u001b[38;5;241m0\u001b[39m])\n\u001b[1;32m      3\u001b[0m img_size \u001b[38;5;241m=\u001b[39m (sample_img\u001b[38;5;241m.\u001b[39mshape[\u001b[38;5;241m1\u001b[39m], sample_img\u001b[38;5;241m.\u001b[39mshape[\u001b[38;5;241m0\u001b[39m])  \u001b[38;5;66;03m# (width, height)\u001b[39;00m\n\u001b[1;32m      5\u001b[0m \u001b[38;5;66;03m# ----- Stereo calibration function -----\u001b[39;00m\n",
      "\u001b[0;31mNameError\u001b[0m: name 'img_files_left1' is not defined"
     ]
    }
   ],
   "source": [
    "# ----- Determine image size (assumes all images are the same size) -----\n",
    "sample_img = cv.imread(img_files_left1[0])\n",
    "img_size = (sample_img.shape[1], sample_img.shape[0])  # (width, height)\n",
    "\n",
    "# ----- Stereo calibration function -----\n",
    "def calibrate_stereo(objpoints, imgpoints_left, imgpoints_right, K_left, D_left, K_right, D_right):\n",
    "    # We assume intrinsics are fixed from earlier calibration.\n",
    "    flags = cv.CALIB_FIX_INTRINSIC\n",
    "    stereo_criteria = (cv.TERM_CRITERIA_MAX_ITER + cv.TERM_CRITERIA_EPS, 100, 1e-5)\n",
    "    ret, K1, D1, K2, D2, R, T, E, F = cv.stereoCalibrate(\n",
    "        objpoints,\n",
    "        imgpoints_left,\n",
    "        imgpoints_right,\n",
    "        K_left,\n",
    "        D_left,\n",
    "        K_right,\n",
    "        D_right,\n",
    "        img_size,\n",
    "        criteria=stereo_criteria,\n",
    "        flags=flags\n",
    "    )\n",
    "    # Compute projection matrices\n",
    "    P_left = np.hstack((K1, np.zeros((3, 1))))\n",
    "    P_right = np.hstack((K2, K2 @ T.reshape(-1, 1)))\n",
    "    return R, T, P_left, P_right\n",
    "\n",
    "# ----- Calibrate Stereo Pair 1 -----\n",
    "R1, T1, P_left1, P_right1 = calibrate_stereo(\n",
    "    objpoints1,\n",
    "    imgpoints_left1,\n",
    "    imgpoints_right1,\n",
    "    intrinsics['CAM_1_LEFT']['K'],\n",
    "    intrinsics['CAM_1_LEFT']['D'],\n",
    "    intrinsics['CAM_2_RIGHT']['K'],\n",
    "    intrinsics['CAM_2_RIGHT']['D']\n",
    ")\n",
    "\n",
    "# ----- Calibrate Stereo Pair 2 -----\n",
    "R2, T2, P_left2, P_right2 = calibrate_stereo(\n",
    "    objpoints2,\n",
    "    imgpoints_left2,\n",
    "    imgpoints_right2,\n",
    "    intrinsics['CAM_3_LEFT']['K'],\n",
    "    intrinsics['CAM_3_LEFT']['D'],\n",
    "    intrinsics['CAM_4_RIGHT']['K'],\n",
    "    intrinsics['CAM_4_RIGHT']['D']\n",
    ")\n",
    "\n",
    "# ----- Collect results -----\n",
    "results = {\n",
    "    \"Stereo_Pair_1\": {\n",
    "        \"P_left\": P_left1,\n",
    "        \"P_right\": P_right1,\n",
    "        \"R\": R1,\n",
    "        \"T\": T1\n",
    "    },\n",
    "    \"Stereo_Pair_2\": {\n",
    "        \"P_left\": P_left2,\n",
    "        \"P_right\": P_right2,\n",
    "        \"R\": R2,\n",
    "        \"T\": T2\n",
    "    }\n",
    "}\n",
    "\n",
    "# Print the extrinsic calibration results\n",
    "print(\"Extrinsic calibration results:\")\n",
    "for pair, data in results.items():\n",
    "    print(f\"{pair}:\")\n",
    "    print(\"  P_left =\\n\", data[\"P_left\"])\n",
    "    print(\"  P_right =\\n\", data[\"P_right\"])\n",
    "    print(\"  R =\\n\", data[\"R\"])\n",
    "    print(\"  T =\\n\", data[\"T\"])"
   ]
  },
  {
   "cell_type": "markdown",
   "metadata": {},
   "source": [
    "### Draw epipolar lines to know if rectification is needed"
   ]
  },
  {
   "cell_type": "code",
   "execution_count": null,
   "metadata": {},
   "outputs": [],
   "source": [
    "import cv2 as cv\n",
    "import numpy as np\n",
    "\n",
    "def draw_epipolar_lines(img_left, img_right, points_left, points_right, F):\n",
    "    \"\"\" Draw epipolar lines on stereo image pair \"\"\"\n",
    "    def draw_lines(img, lines, pts):\n",
    "        r, c = img.shape[:2]\n",
    "        img_color = cv.cvtColor(img, cv.COLOR_GRAY2BGR)\n",
    "        for r, pt in zip(lines, pts):\n",
    "            color = tuple(np.random.randint(0, 255, 3).tolist())\n",
    "            x0, y0 = map(int, [0, -r[2]/r[1]])\n",
    "            x1, y1 = map(int, [c, -(r[2] + r[0]*c)/r[1]])\n",
    "            img_color = cv.line(img_color, (x0, y0), (x1, y1), color, 1)\n",
    "            img_color = cv.circle(img_color, tuple(pt), 5, color, -1)\n",
    "        return img_color\n",
    "\n",
    "    # Compute epilines for left image\n",
    "    lines_left = cv.computeCorrespondEpilines(points_right.reshape(-1, 1, 2), 2, F).reshape(-1, 3)\n",
    "    img_left_with_lines = draw_lines(img_left, lines_left, points_left)\n",
    "\n",
    "    # Compute epilines for right image\n",
    "    lines_right = cv.computeCorrespondEpilines(points_left.reshape(-1, 1, 2), 1, F).reshape(-1, 3)\n",
    "    img_right_with_lines = draw_lines(img_right, lines_right, points_right)\n",
    "\n",
    "    return img_left_with_lines, img_right_with_lines\n",
    "\n",
    "# Example usage:\n",
    "F, _ = cv.findFundamentalMat(imgpoints_left, imgpoints_right, cv.FM_LMEDS)\n",
    "img_left_with_lines, img_right_with_lines = draw_epipolar_lines(img_left, img_right, imgpoints_left, imgpoints_right, F)\n",
    "\n",
    "cv.imshow(\"Left Epipolar Lines\", img_left_with_lines)\n",
    "cv.imshow(\"Right Epipolar Lines\", img_right_with_lines)\n",
    "cv.waitKey(0)\n",
    "cv.destroyAllWindows()\n"
   ]
  },
  {
   "cell_type": "markdown",
   "metadata": {},
   "source": [
    "### rectification"
   ]
  },
  {
   "cell_type": "code",
   "execution_count": null,
   "metadata": {},
   "outputs": [],
   "source": [
    "R1, R2, P1, P2, Q, roi1, roi2 = cv.stereoRectify(\n",
    "    K_left, D_left, K_right, D_right, img_size, R, T\n",
    ")\n"
   ]
  }
 ],
 "metadata": {
  "kernelspec": {
   "display_name": "venv-tp",
   "language": "python",
   "name": "python3"
  },
  "language_info": {
   "codemirror_mode": {
    "name": "ipython",
    "version": 3
   },
   "file_extension": ".py",
   "mimetype": "text/x-python",
   "name": "python",
   "nbconvert_exporter": "python",
   "pygments_lexer": "ipython3",
   "version": "3.12.0"
  }
 },
 "nbformat": 4,
 "nbformat_minor": 2
}
