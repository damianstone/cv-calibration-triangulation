{
 "cells": [
  {
   "cell_type": "markdown",
   "metadata": {},
   "source": [
    "## Get extrinsic params using robust calibration paper\n",
    "Output: R, T between camera pairs"
   ]
  },
  {
   "cell_type": "code",
   "execution_count": 2,
   "metadata": {},
   "outputs": [],
   "source": [
    "import sys\n",
    "\n",
    "if '/Users/damianstone/Documents/Code/tennis-project/post-triangulation/' not in sys.path:\n",
    "  sys.path.append('/Users/damianstone/Documents/Code/tennis-project/post-triangulation/')"
   ]
  },
  {
   "cell_type": "code",
   "execution_count": 3,
   "metadata": {},
   "outputs": [],
   "source": [
    "import cv2 as cv\n",
    "import numpy as np\n",
    "import glob\n",
    "import json\n",
    "\n",
    "BASE_PATH = '/Users/damianstone/Documents/Code/tennis-project/post-triangulation/'\n",
    "IMAGE_BASE_PATH = f'{BASE_PATH}/images/'\n",
    "INTRINSIC_PARAMS_FILE_NAME = 'intrinsic_params.json'"
   ]
  },
  {
   "cell_type": "code",
   "execution_count": 7,
   "metadata": {},
   "outputs": [
    {
     "data": {
      "text/plain": [
       "{'CAM_1_LEFT': {'fx': 1800.0,\n",
       "  'fy': 1805.0,\n",
       "  'cx': 1920.0,\n",
       "  'cy': 1080.0,\n",
       "  'D': [-0.25, 0.05, 0.0, 0.0, -0.02],\n",
       "  'K': [[1800.0, 0, 1920.0], [0, 1805.0, 1080.0], [0, 0, 1]]},\n",
       " 'CAM_2_RIGHT': {'fx': 1795.0,\n",
       "  'fy': 1800.0,\n",
       "  'cx': 1918.0,\n",
       "  'cy': 1078.0,\n",
       "  'D': [-0.23, 0.04, 0.0, 0.0, -0.015],\n",
       "  'K': [[1795.0, 0, 1918.0], [0, 1800.0, 1078.0], [0, 0, 1]]},\n",
       " 'CAM_3_LEFT': {'fx': 1810.0,\n",
       "  'fy': 1812.0,\n",
       "  'cx': 1925.0,\n",
       "  'cy': 1082.0,\n",
       "  'D': [-0.27, 0.06, 0.0, 0.0, -0.018],\n",
       "  'K': [[1810.0, 0, 1925.0], [0, 1812.0, 1082.0], [0, 0, 1]]},\n",
       " 'CAM_4_RIGHT': {'fx': 1805.0,\n",
       "  'fy': 1810.0,\n",
       "  'cx': 1922.0,\n",
       "  'cy': 1081.0,\n",
       "  'D': [-0.24, 0.05, 0.0, 0.0, -0.017],\n",
       "  'K': [[1805.0, 0, 1922.0], [0, 1810.0, 1081.0], [0, 0, 1]]}}"
      ]
     },
     "execution_count": 7,
     "metadata": {},
     "output_type": "execute_result"
    }
   ],
   "source": [
    "# load intrinsic parameters\n",
    "with open(f'{BASE_PATH}/data/{INTRINSIC_PARAMS_FILE_NAME}', \"r\") as file:\n",
    "    camera_data = json.load(file)\n",
    "\n",
    "camera_data"
   ]
  },
  {
   "cell_type": "code",
   "execution_count": null,
   "metadata": {},
   "outputs": [],
   "source": [
    "\n",
    "# load Image Pairs from Folders\n",
    "stereo_pairs = {\n",
    "    \"STEREO_1\": (\"left_stereo_1/*.png\", \"right_stereo_1/*.png\"),  # CAM_1 & CAM_2\n",
    "    \"STEREO_2\": (\"left_stereo_2/*.png\", \"right_stereo_2/*.png\")   # CAM_3 & CAM_4\n",
    "}\n",
    "\n",
    "# 3. Detect Court Lines in Both Views\n",
    "def detect_court_lines(image):\n",
    "    gray = cv.cvtColor(image, cv.COLOR_BGR2GRAY)\n",
    "    edges = cv.Canny(gray, 50, 150, apertureSize=3)\n",
    "    lines = cv.HoughLinesP(edges, 1, np.pi/180, threshold=100, minLineLength=50, maxLineGap=5)\n",
    "    return lines\n",
    "\n",
    "# 4. Extract Correspondences from Court Model\n",
    "def match_court_lines(lines_left, lines_right):\n",
    "    # Implement court line matching using homography\n",
    "    pass\n",
    "\n",
    "# 5. Compute Homography for Each Camera\n",
    "def compute_homography(lines, court_model):\n",
    "    H, _ = cv.findHomography(lines, court_model)\n",
    "    return H\n",
    "\n",
    "# 6. Stereo Calibration (Find R, T for each stereo pair)\n",
    "def stereo_calibrate(objpoints, imgpoints_l, imgpoints_r, cam_left, cam_right):\n",
    "    flags = cv.CALIB_FIX_INTRINSIC\n",
    "    criteria = (cv.TERM_CRITERIA_EPS + cv.TERM_CRITERIA_MAX_ITER, 30, 0.001)\n",
    "\n",
    "    ret, _, _, _, _, R, T, _, _ = cv.stereoCalibrate(\n",
    "        objpoints, imgpoints_l, imgpoints_r, \n",
    "        intrinsics[cam_left][\"K\"], intrinsics[cam_left][\"D\"], \n",
    "        intrinsics[cam_right][\"K\"], intrinsics[cam_right][\"D\"], \n",
    "        (width, height), criteria=criteria, flags=flags\n",
    "    )\n",
    "    return R, T\n",
    "\n",
    "# 7. Process Each Stereo Pair\n",
    "extrinsics = {}\n",
    "\n",
    "for stereo_id, (left_folder, right_folder) in stereo_pairs.items():\n",
    "    left_images = sorted(glob.glob(left_folder))\n",
    "    right_images = sorted(glob.glob(right_folder))\n",
    "\n",
    "    objpoints, imgpoints_l, imgpoints_r = [], [], []\n",
    "\n",
    "    for left_img_path, right_img_path in zip(left_images, right_images):\n",
    "        img_l = cv.imread(left_img_path)\n",
    "        img_r = cv.imread(right_img_path)\n",
    "\n",
    "        lines_l = detect_court_lines(img_l)\n",
    "        lines_r = detect_court_lines(img_r)\n",
    "\n",
    "        # Match lines between views\n",
    "        court_matches = match_court_lines(lines_l, lines_r)\n",
    "\n",
    "        # Compute Homography\n",
    "        H_left = compute_homography(lines_l, court_matches)\n",
    "        H_right = compute_homography(lines_r, court_matches)\n",
    "\n",
    "        # Stereo Pair Mapping\n",
    "        if stereo_id == \"STEREO_1\":\n",
    "            cam_left, cam_right = \"CAM_1\", \"CAM_2\"\n",
    "        else:\n",
    "            cam_left, cam_right = \"CAM_3\", \"CAM_4\"\n",
    "\n",
    "        # Estimate R, T for Stereo Pair\n",
    "        R, T = stereo_calibrate([court_matches], [lines_l], [lines_r], cam_left, cam_right)\n",
    "        extrinsics[stereo_id] = {\"R\": R.tolist(), \"T\": T.tolist()}\n",
    "\n",
    "        print(f\"{stereo_id} - Rotation Matrix (R):\", R)\n",
    "        print(f\"{stereo_id} - Translation Vector (T):\", T)\n",
    "\n",
    "# 8. Save Extrinsic Calibration Data\n",
    "import json\n",
    "with open(\"stereo_extrinsics.json\", \"w\") as f:\n",
    "    json.dump(extrinsics, f, indent=4)\n",
    "\n",
    "print(\"Extrinsic calibration saved.\")\n"
   ]
  }
 ],
 "metadata": {
  "kernelspec": {
   "display_name": "venv-tp",
   "language": "python",
   "name": "python3"
  },
  "language_info": {
   "codemirror_mode": {
    "name": "ipython",
    "version": 3
   },
   "file_extension": ".py",
   "mimetype": "text/x-python",
   "name": "python",
   "nbconvert_exporter": "python",
   "pygments_lexer": "ipython3",
   "version": "3.12.0"
  }
 },
 "nbformat": 4,
 "nbformat_minor": 2
}
