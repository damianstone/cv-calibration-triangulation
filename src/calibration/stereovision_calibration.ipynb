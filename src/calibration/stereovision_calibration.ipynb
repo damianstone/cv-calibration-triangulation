{
 "cells": [
  {
   "cell_type": "markdown",
   "metadata": {},
   "source": [
    "## Stereo vision calibration\n",
    "Dataset: https://www.kaggle.com/datasets/danielwe14/stereocamera-chessboard-pictures"
   ]
  },
  {
   "cell_type": "code",
   "execution_count": 1,
   "metadata": {},
   "outputs": [],
   "source": [
    "import matplotlib.pyplot as plt\n",
    "import numpy as np\n",
    "import cv2 as cv\n",
    "import glob\n",
    "import sys\n",
    "\n",
    "if '/Users/damianstone/Documents/Code/tennis-project/post-triangulation/' not in sys.path:\n",
    "  sys.path.append('/Users/damianstone/Documents/Code/tennis-project/post-triangulation/')\n"
   ]
  },
  {
   "cell_type": "code",
   "execution_count": 2,
   "metadata": {},
   "outputs": [],
   "source": [
    "def print_image(imread_img):\n",
    "  img = cv.cvtColor(imread_img, cv.COLOR_BGR2RGB)\n",
    "  plt.imshow(img)\n",
    "  plt.axis('off')\n",
    "  plt.show()"
   ]
  },
  {
   "cell_type": "markdown",
   "metadata": {},
   "source": [
    "### Find chessboard corners - object points and image points\n"
   ]
  },
  {
   "cell_type": "code",
   "execution_count": 11,
   "metadata": {},
   "outputs": [],
   "source": [
    "# number of inner coners - rows and columns\n",
    "chessboard_size = (11, 7)\n",
    "\n",
    "img = cv.imread('/Users/damianstone/Documents/Code/tennis-project/post-triangulation/images/stereoRight/Im_R_1.png')\n",
    "height, width = img.shape[:2]\n",
    "\n",
    "# size of the image\n",
    "frame_size = (width, height)\n",
    "\n",
    "# how exact we want to be find the corners of each square in the chessboard \n",
    "# 30 = max number of iterations\n",
    "# 0.001 = stop if the change in the corner position is less than 0.001 - convergence threshold \n",
    "criteria = (cv.TERM_CRITERIA_EPS + cv.TERM_CRITERIA_MAX_ITER, 30, 0.001)\n",
    "\n",
    "# create 3D points of the chessboard corners\n",
    "# each row represents a coordinate of a corner of the chessboard\n",
    "# corner = interesection between two squares\n",
    "objp = np.zeros(\n",
    "  (chessboard_size[0] * chessboard_size[1], 3), \n",
    "  np.float32\n",
    ")\n",
    "\n",
    "# it generates a grid of (x, y) coordinates for chessboard corners and stores them as 3D points with z = 0 for calibration\n",
    "objp[:,:2] = np.mgrid[\n",
    "  0:chessboard_size[0],\n",
    "  0:chessboard_size[1]\n",
    "  ].T.reshape(-1,2)\n",
    "\n",
    "# scale the 3D points to real world size\n",
    "size_of_chessboard_squares_mm = 30\n",
    "objp = objp * size_of_chessboard_squares_mm\n",
    "\n",
    "# Arrays to store object points and image points from all the images.\n",
    "objpoints = [] # 3d point in real world space\n",
    "imgpoints_l = [] # 2d points in image plane\n",
    "imgpoints_r = [] # 2d points in image plane\n",
    "\n",
    "\n",
    "images_left = glob.glob('/Users/damianstone/Documents/Code/tennis-project/post-triangulation/images/stereoLeft/*.png')\n",
    "images_right = glob.glob('/Users/damianstone/Documents/Code/tennis-project/post-triangulation/images/stereoRight/*.png')\n",
    "\n",
    "for img_left, img_right in zip(images_left, images_right):\n",
    "  img_l = cv.imread(img_left)\n",
    "  img_r = cv.imread(img_right)\n",
    "\n",
    "  gray_l = cv.cvtColor(img_l, cv.COLOR_BGR2GRAY)\n",
    "  gray_r = cv.cvtColor(img_r, cv.COLOR_BGR2GRAY)\n",
    "\n",
    "  # find the chessboard corners\n",
    "  ret_l, corners_l = cv.findChessboardCorners(gray_l, chessboard_size, None)\n",
    "  ret_r, corners_r = cv.findChessboardCorners(gray_r, chessboard_size, None)\n",
    "\n",
    "  # if corners are found, add object points, image points (after refining them)\n",
    "  if ret_l and ret_r:\n",
    "    objpoints.append(objp)\n",
    "\n",
    "    corners_l = cv.cornerSubPix(gray_l, corners_l, (11, 11), (-1, -1), criteria)\n",
    "    imgpoints_l.append(corners_l)\n",
    "\n",
    "    corners_r = cv.cornerSubPix(gray_r, corners_r, (11, 11), (-1, -1), criteria)\n",
    "    imgpoints_r.append(corners_r)\n",
    "\n",
    "    # draw and display the corners\n",
    "    # cv.drawChessboardCorners(img_l, chessboard_size, corners_l, ret_l)\n",
    "    # print_image(img_l)\n",
    "    # cv.drawChessboardCorners(img_r, chessboard_size, corners_r, ret_r)\n",
    "    # print_image(img_r)\n",
    "    cv.waitKey(1000)\n",
    "\n",
    "cv.destroyAllWindows()\n",
    "\n"
   ]
  },
  {
   "cell_type": "markdown",
   "metadata": {},
   "source": [
    "### Calibration"
   ]
  },
  {
   "cell_type": "code",
   "execution_count": null,
   "metadata": {},
   "outputs": [],
   "source": [
    "ret, cameraMatrix, dist, rvecs, tvecs = cv.calibrateCamera(objpoints, imgpoints, frameSize, None, None)\n",
    "\n",
    "# Save the camera calibration result for later use (we won't worry about rvecs / tvecs)\n",
    "pickle.dump((cameraMatrix, dist), open( \"calibration.pkl\", \"wb\" ))\n",
    "pickle.dump(cameraMatrix, open( \"cameraMatrix.pkl\", \"wb\" ))\n",
    "pickle.dump(dist, open( \"dist.pkl\", \"wb\" ))\n"
   ]
  },
  {
   "cell_type": "markdown",
   "metadata": {},
   "source": [
    "### Undistortion"
   ]
  },
  {
   "cell_type": "code",
   "execution_count": null,
   "metadata": {},
   "outputs": [],
   "source": [
    "img = cv.imread('cali5.png')\n",
    "h,  w = img.shape[:2]\n",
    "newCameraMatrix, roi = cv.getOptimalNewCameraMatrix(cameraMatrix, dist, (w,h), 1, (w,h))\n",
    "\n",
    "# Undistort\n",
    "dst = cv.undistort(img, cameraMatrix, dist, None, newCameraMatrix)\n",
    "\n",
    "# crop the image\n",
    "x, y, w, h = roi\n",
    "dst = dst[y:y+h, x:x+w]\n",
    "cv.imwrite('caliResult1.png', dst)\n",
    "\n",
    "# Undistort with Remapping\n",
    "mapx, mapy = cv.initUndistortRectifyMap(cameraMatrix, dist, None, newCameraMatrix, (w,h), 5)\n",
    "dst = cv.remap(img, mapx, mapy, cv.INTER_LINEAR)\n",
    "\n",
    "# crop the image\n",
    "x, y, w, h = roi\n",
    "dst = dst[y:y+h, x:x+w]\n",
    "cv.imwrite('caliResult2.png', dst)\n",
    "\n",
    "\n",
    "# Reprojection Error\n",
    "mean_error = 0\n",
    "\n",
    "for i in range(len(objpoints)):\n",
    "    imgpoints2, _ = cv.projectPoints(objpoints[i], rvecs[i], tvecs[i], cameraMatrix, dist)\n",
    "    error = cv.norm(imgpoints[i], imgpoints2, cv.NORM_L2)/len(imgpoints2)\n",
    "    mean_error += error\n",
    "\n",
    "print( \"total error: {}\".format(mean_error/len(objpoints)) )"
   ]
  }
 ],
 "metadata": {
  "kernelspec": {
   "display_name": "venv-tp",
   "language": "python",
   "name": "python3"
  },
  "language_info": {
   "codemirror_mode": {
    "name": "ipython",
    "version": 3
   },
   "file_extension": ".py",
   "mimetype": "text/x-python",
   "name": "python",
   "nbconvert_exporter": "python",
   "pygments_lexer": "ipython3",
   "version": "3.12.0"
  }
 },
 "nbformat": 4,
 "nbformat_minor": 2
}
