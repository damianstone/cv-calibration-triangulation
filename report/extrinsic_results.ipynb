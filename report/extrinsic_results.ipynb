{
 "cells": [
  {
   "cell_type": "code",
   "execution_count": 1,
   "metadata": {},
   "outputs": [],
   "source": [
    "import cv2\n",
    "import numpy as np\n",
    "import pandas as pd\n",
    "import os\n",
    "import glob\n",
    "import json\n",
    "import shutil\n",
    "import sys\n",
    "from pathlib import Path\n",
    "from tqdm import tqdm\n",
    "import matplotlib.pyplot as plt\n",
    "\n",
    "def find_project_root(marker=\".gitignore\"):\n",
    "    current = Path.cwd()\n",
    "    for parent in [current] + list(current.parents):\n",
    "        if (parent / marker).exists():\n",
    "            return parent.resolve()\n",
    "    raise FileNotFoundError(\n",
    "        f\"Project root marker '{marker}' not found starting from {current}\")\n",
    "    \n",
    "root = find_project_root()\n",
    "src_path = f\"{root}/src\"\n",
    "if src_path not in sys.path:\n",
    "    sys.path.append(src_path)"
   ]
  },
  {
   "cell_type": "code",
   "execution_count": 2,
   "metadata": {},
   "outputs": [],
   "source": [
    "base_folder = f\"{root}/images/STEREOS\"\n",
    "output_path = f\"{root}/data/extrinsic_experiments.csv\"\n",
    "chessboard_size = (9, 6)\n",
    "square_size_mm = 60"
   ]
  },
  {
   "cell_type": "code",
   "execution_count": 13,
   "metadata": {},
   "outputs": [
    {
     "name": "stderr",
     "output_type": "stream",
     "text": [
      "Processing folders:   0%|          | 0/24 [00:00<?, ?it/s]"
     ]
    },
    {
     "name": "stderr",
     "output_type": "stream",
     "text": [
      "Processing folders: 100%|██████████| 24/24 [00:23<00:00,  1.01it/s]\n"
     ]
    },
    {
     "name": "stdout",
     "output_type": "stream",
     "text": [
      "VALID PAIRS -> 24 REPROJECTION ERROR -> 3.434\n"
     ]
    },
    {
     "name": "stderr",
     "output_type": "stream",
     "text": [
      "Processing folders: 100%|██████████| 19/19 [00:19<00:00,  1.04s/it]\n"
     ]
    },
    {
     "name": "stdout",
     "output_type": "stream",
     "text": [
      "VALID PAIRS -> 19 REPROJECTION ERROR -> 3.879\n"
     ]
    },
    {
     "name": "stderr",
     "output_type": "stream",
     "text": [
      "Processing folders: 100%|██████████| 24/24 [00:22<00:00,  1.04it/s]\n"
     ]
    },
    {
     "name": "stdout",
     "output_type": "stream",
     "text": [
      "VALID PAIRS -> 24 REPROJECTION ERROR -> 1.754\n"
     ]
    },
    {
     "name": "stderr",
     "output_type": "stream",
     "text": [
      "Processing folders: 100%|██████████| 19/19 [00:20<00:00,  1.08s/it]\n"
     ]
    },
    {
     "name": "stdout",
     "output_type": "stream",
     "text": [
      "VALID PAIRS -> 19 REPROJECTION ERROR -> 3.552\n"
     ]
    },
    {
     "name": "stderr",
     "output_type": "stream",
     "text": [
      "Processing folders: 100%|██████████| 24/24 [00:23<00:00,  1.02it/s]\n"
     ]
    },
    {
     "name": "stdout",
     "output_type": "stream",
     "text": [
      "VALID PAIRS -> 18 REPROJECTION ERROR -> 3.384\n"
     ]
    },
    {
     "name": "stderr",
     "output_type": "stream",
     "text": [
      "Processing folders: 100%|██████████| 19/19 [00:19<00:00,  1.04s/it]\n"
     ]
    },
    {
     "name": "stdout",
     "output_type": "stream",
     "text": [
      "VALID PAIRS -> 13 REPROJECTION ERROR -> 3.497\n"
     ]
    },
    {
     "name": "stderr",
     "output_type": "stream",
     "text": [
      "Processing folders: 100%|██████████| 24/24 [00:22<00:00,  1.07it/s]\n"
     ]
    },
    {
     "name": "stdout",
     "output_type": "stream",
     "text": [
      "VALID PAIRS -> 24 REPROJECTION ERROR -> 1.754\n"
     ]
    },
    {
     "name": "stderr",
     "output_type": "stream",
     "text": [
      "Processing folders: 100%|██████████| 19/19 [00:19<00:00,  1.04s/it]\n"
     ]
    },
    {
     "name": "stdout",
     "output_type": "stream",
     "text": [
      "VALID PAIRS -> 19 REPROJECTION ERROR -> 3.552\n"
     ]
    },
    {
     "name": "stderr",
     "output_type": "stream",
     "text": [
      "Processing folders: 100%|██████████| 24/24 [00:22<00:00,  1.06it/s]\n"
     ]
    },
    {
     "name": "stdout",
     "output_type": "stream",
     "text": [
      "VALID PAIRS -> 19 REPROJECTION ERROR -> 1.519\n"
     ]
    },
    {
     "name": "stderr",
     "output_type": "stream",
     "text": [
      "Processing folders: 100%|██████████| 19/19 [00:19<00:00,  1.04s/it]\n"
     ]
    },
    {
     "name": "stdout",
     "output_type": "stream",
     "text": [
      "VALID PAIRS -> 14 REPROJECTION ERROR -> 1.447\n"
     ]
    },
    {
     "name": "stderr",
     "output_type": "stream",
     "text": [
      "Processing folders: 100%|██████████| 24/24 [00:23<00:00,  1.03it/s]\n"
     ]
    },
    {
     "name": "stdout",
     "output_type": "stream",
     "text": [
      "VALID PAIRS -> 9 REPROJECTION ERROR -> 0.835\n"
     ]
    },
    {
     "name": "stderr",
     "output_type": "stream",
     "text": [
      "Processing folders: 100%|██████████| 19/19 [00:19<00:00,  1.04s/it]\n"
     ]
    },
    {
     "name": "stdout",
     "output_type": "stream",
     "text": [
      "VALID PAIRS -> 9 REPROJECTION ERROR -> 0.996\n"
     ]
    },
    {
     "name": "stderr",
     "output_type": "stream",
     "text": [
      "Processing folders: 100%|██████████| 24/24 [00:23<00:00,  1.04it/s]\n"
     ]
    },
    {
     "name": "stdout",
     "output_type": "stream",
     "text": [
      "VALID PAIRS -> 7 REPROJECTION ERROR -> 0.795\n"
     ]
    },
    {
     "name": "stderr",
     "output_type": "stream",
     "text": [
      "Processing folders: 100%|██████████| 19/19 [00:20<00:00,  1.07s/it]"
     ]
    },
    {
     "name": "stdout",
     "output_type": "stream",
     "text": [
      "VALID PAIRS -> 9 REPROJECTION ERROR -> 0.996\n"
     ]
    },
    {
     "name": "stderr",
     "output_type": "stream",
     "text": [
      "\n"
     ]
    }
   ],
   "source": [
    "from calibrate_stereo_pair import calibrate_stereo_from_folder\n",
    "\n",
    "experiments = [\n",
    "    {'threshold': 0, 'win_size': (7, 7)},\n",
    "    {'threshold': 0, 'win_size': (5, 5)},\n",
    "    \n",
    "    {'threshold': 0.4, 'win_size': (7, 7)},\n",
    "    {'threshold': 0.4, 'win_size': (5, 5)},\n",
    "    \n",
    "    {'threshold': 0.2, 'win_size': (5, 5)},\n",
    "    {'threshold': 0.1, 'win_size': (5, 5)},\n",
    "    {'threshold': 0.09, 'win_size': (5, 5)}\n",
    "]\n",
    "\n",
    "intrinsic_path = os.path.join(root, \"output\", \"V2_intrinsic_params.json\")\n",
    "with open(intrinsic_path, \"r\") as f:\n",
    "    intrinsics = json.load(f)\n",
    "    \n",
    "results = []\n",
    "for exp in experiments:\n",
    "  stereo_a_folder = os.path.join(base_folder, \"STEREO_A\", \"stereo_frames\")\n",
    "  stereo_a_params = calibrate_stereo_from_folder(\n",
    "      cam_left_name=\"CAM_1\",\n",
    "      cam_right_name=\"CAM_2\",\n",
    "      folder=stereo_a_folder,\n",
    "      chessboard_size=chessboard_size,\n",
    "      square_size_mm=square_size_mm,\n",
    "      intrinsic_left=intrinsics[\"CAM_1\"],\n",
    "      intrinsic_right=intrinsics[\"CAM_2\"],\n",
    "      error_threshold=exp[\"threshold\"],\n",
    "      window_size=exp[\"win_size\"],\n",
    "      allow_filtering=False if exp[\"threshold\"] == 0 else True,\n",
    "      debug_mode=False\n",
    "  )\n",
    "\n",
    "  stareo_a_results = {\n",
    "    \"stereo\": \"A\",\n",
    "    \"threshold\": exp[\"threshold\"],\n",
    "    \"win_size\": exp[\"win_size\"][0],\n",
    "    \"frames_pairs_before\": stereo_a_params[\"frame_pairs_before\"],\n",
    "    \"frames_pairs_after\": stereo_a_params[\"frame_pairs_after\"],\n",
    "    \"error\": stereo_a_params[\"reprojection_error\"],\n",
    "  }\n",
    "  results.append(stareo_a_results)\n",
    "\n",
    "  stereo_b_folder = os.path.join(base_folder, \"STEREO_B\", \"stereo_frames\")\n",
    "  stereo_b_params = calibrate_stereo_from_folder(\n",
    "      cam_left_name=\"CAM_3\",\n",
    "      cam_right_name=\"CAM_4\",\n",
    "      folder=stereo_b_folder,\n",
    "      chessboard_size=chessboard_size,\n",
    "      square_size_mm=square_size_mm,\n",
    "      intrinsic_left=intrinsics[\"CAM_3\"],\n",
    "      intrinsic_right=intrinsics[\"CAM_4\"],\n",
    "      error_threshold=exp[\"threshold\"],\n",
    "      window_size=exp[\"win_size\"],\n",
    "      allow_filtering=False if exp[\"threshold\"] == 0 else True,\n",
    "      debug_mode=False\n",
    "  )\n",
    "\n",
    "  stareo_a_results = {\n",
    "    \"stereo\": \"B\",\n",
    "    \"threshold\": exp[\"threshold\"],\n",
    "    \"win_size\": exp[\"win_size\"][0],\n",
    "    \"frames_pairs_before\": stereo_b_params[\"frame_pairs_before\"],\n",
    "    \"frames_pairs_after\": stereo_b_params[\"frame_pairs_after\"],\n",
    "    \"error\": stereo_b_params[\"reprojection_error\"],\n",
    "  }\n",
    "  results.append(stareo_a_results)\n",
    "\n",
    "\n",
    "\n",
    "results_df = pd.DataFrame(results)\n",
    "results_df.to_csv(output_path, index=False)\n"
   ]
  },
  {
   "cell_type": "code",
   "execution_count": 15,
   "metadata": {},
   "outputs": [],
   "source": [
    "original_df = pd.read_csv(output_path)"
   ]
  },
  {
   "cell_type": "code",
   "execution_count": 16,
   "metadata": {},
   "outputs": [
    {
     "data": {
      "image/png": "[encoded data removed]",
      "text/plain": [
       "<Figure size 1000x600 with 1 Axes>"
      ]
     },
     "metadata": {},
     "output_type": "display_data"
    }
   ],
   "source": [
    "import seaborn as sns\n",
    "\n",
    "import seaborn as sns\n",
    "\n",
    "# Filter the data for threshold 0\n",
    "df_threshold_0 = original_df[original_df['threshold'] == 0]\n",
    "\n",
    "# Sort the data by reprojection error in descending order\n",
    "df_threshold_0 = df_threshold_0.sort_values(by='error', ascending=False)\n",
    "\n",
    "# Plot Reprojection Error vs. Window Size for Threshold 0\n",
    "plt.figure(figsize=(10, 6))\n",
    "stereo_order = ['A', 'B']  # Order of stereo pairs\n",
    "\n",
    "barplot = sns.barplot(x='win_size', y='error', hue='stereo', data=df_threshold_0, \n",
    "                     palette='Set2',  # Using Set2 for better distinction between stereo pairs\n",
    "                     order=[7, 5],    # Your window sizes\n",
    "                     hue_order=stereo_order)\n",
    "\n",
    "plt.title('Stereo Pair Reprojection Error vs. Window Size (No Filtering)')\n",
    "plt.xlabel('Window Size')\n",
    "plt.ylabel('Reprojection Error')\n",
    "plt.legend(title='Stereo Pair', loc='upper right')\n",
    "plt.ylim(0, df_threshold_0['error'].max() + 1)\n",
    "plt.xticks(ticks=[0, 1], labels=[\"(7,7)\", \"(5,5)\"])\n",
    "plt.grid(axis='y', linestyle='--', alpha=0.7)\n",
    "\n",
    "# Annotate bars with exact values\n",
    "for p in barplot.patches:\n",
    "    height = p.get_height()\n",
    "    if height > 0:\n",
    "        barplot.annotate(f'{height:.2f}',\n",
    "                        (p.get_x() + p.get_width() / 2., height),\n",
    "                        ha='center', va='bottom',\n",
    "                        xytext=(0, 5),\n",
    "                        textcoords='offset points')\n",
    "\n",
    "plt.tight_layout()\n",
    "plt.show()"
   ]
  }
 ],
 "metadata": {
  "kernelspec": {
   "display_name": "venv-tp",
   "language": "python",
   "name": "python3"
  },
  "language_info": {
   "codemirror_mode": {
    "name": "ipython",
    "version": 3
   },
   "file_extension": ".py",
   "mimetype": "text/x-python",
   "name": "python",
   "nbconvert_exporter": "python",
   "pygments_lexer": "ipython3",
   "version": "3.12.0"
  }
 },
 "nbformat": 4,
 "nbformat_minor": 2
}
