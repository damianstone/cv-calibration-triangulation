{
 "cells": [
  {
   "cell_type": "markdown",
   "metadata": {},
   "source": [
    "## Explore YOLO output"
   ]
  },
  {
   "cell_type": "code",
   "execution_count": 2,
   "metadata": {},
   "outputs": [],
   "source": [
    "import cv2\n",
    "import numpy as np\n",
    "import pandas as pd\n",
    "import os\n",
    "import glob\n",
    "import json\n",
    "import shutil\n",
    "import sys\n",
    "from pathlib import Path\n",
    "from tqdm import tqdm\n",
    "\n",
    "def find_project_root(marker=\".gitignore\"):\n",
    "    current = Path.cwd()\n",
    "    for parent in [current] + list(current.parents):\n",
    "        if (parent / marker).exists():\n",
    "            return parent.resolve()\n",
    "    raise FileNotFoundError(\n",
    "        f\"Project root marker '{marker}' not found starting from {current}\")\n",
    "    \n",
    "root = find_project_root()"
   ]
  },
  {
   "cell_type": "code",
   "execution_count": 3,
   "metadata": {},
   "outputs": [],
   "source": [
    "detections = pd.read_csv(f\"{root}/data/stereo_detections.csv\")"
   ]
  },
  {
   "cell_type": "code",
   "execution_count": 4,
   "metadata": {},
   "outputs": [
    {
     "data": {
      "text/html": [
       "<div>\n",
       "<style scoped>\n",
       "    .dataframe tbody tr th:only-of-type {\n",
       "        vertical-align: middle;\n",
       "    }\n",
       "\n",
       "    .dataframe tbody tr th {\n",
       "        vertical-align: top;\n",
       "    }\n",
       "\n",
       "    .dataframe thead th {\n",
       "        text-align: right;\n",
       "    }\n",
       "</style>\n",
       "<table border=\"1\" class=\"dataframe\">\n",
       "  <thead>\n",
       "    <tr style=\"text-align: right;\">\n",
       "      <th></th>\n",
       "      <th>frame_no</th>\n",
       "      <th>A1_x</th>\n",
       "      <th>A1_y</th>\n",
       "      <th>A1_confidence</th>\n",
       "      <th>A1_method</th>\n",
       "      <th>A2_x</th>\n",
       "      <th>A2_y</th>\n",
       "      <th>A2_confidence</th>\n",
       "      <th>A2_method</th>\n",
       "    </tr>\n",
       "  </thead>\n",
       "  <tbody>\n",
       "    <tr>\n",
       "      <th>0</th>\n",
       "      <td>934</td>\n",
       "      <td>1803</td>\n",
       "      <td>407</td>\n",
       "      <td>0.813748</td>\n",
       "      <td>YOLO</td>\n",
       "      <td>210</td>\n",
       "      <td>422</td>\n",
       "      <td>0.834425</td>\n",
       "      <td>YOLO</td>\n",
       "    </tr>\n",
       "    <tr>\n",
       "      <th>1</th>\n",
       "      <td>935</td>\n",
       "      <td>1749</td>\n",
       "      <td>415</td>\n",
       "      <td>0.813780</td>\n",
       "      <td>YOLO</td>\n",
       "      <td>255</td>\n",
       "      <td>428</td>\n",
       "      <td>0.818114</td>\n",
       "      <td>YOLO</td>\n",
       "    </tr>\n",
       "    <tr>\n",
       "      <th>2</th>\n",
       "      <td>936</td>\n",
       "      <td>1698</td>\n",
       "      <td>422</td>\n",
       "      <td>0.830572</td>\n",
       "      <td>YOLO</td>\n",
       "      <td>297</td>\n",
       "      <td>435</td>\n",
       "      <td>0.594926</td>\n",
       "      <td>YOLO</td>\n",
       "    </tr>\n",
       "    <tr>\n",
       "      <th>3</th>\n",
       "      <td>937</td>\n",
       "      <td>1648</td>\n",
       "      <td>432</td>\n",
       "      <td>0.856475</td>\n",
       "      <td>YOLO</td>\n",
       "      <td>297</td>\n",
       "      <td>435</td>\n",
       "      <td>0.400000</td>\n",
       "      <td>LK</td>\n",
       "    </tr>\n",
       "    <tr>\n",
       "      <th>4</th>\n",
       "      <td>938</td>\n",
       "      <td>1647</td>\n",
       "      <td>431</td>\n",
       "      <td>0.400000</td>\n",
       "      <td>LK</td>\n",
       "      <td>297</td>\n",
       "      <td>435</td>\n",
       "      <td>0.300000</td>\n",
       "      <td>LK</td>\n",
       "    </tr>\n",
       "  </tbody>\n",
       "</table>\n",
       "</div>"
      ],
      "text/plain": [
       "   frame_no  A1_x  A1_y  A1_confidence A1_method  A2_x  A2_y  A2_confidence  \\\n",
       "0       934  1803   407       0.813748      YOLO   210   422       0.834425   \n",
       "1       935  1749   415       0.813780      YOLO   255   428       0.818114   \n",
       "2       936  1698   422       0.830572      YOLO   297   435       0.594926   \n",
       "3       937  1648   432       0.856475      YOLO   297   435       0.400000   \n",
       "4       938  1647   431       0.400000        LK   297   435       0.300000   \n",
       "\n",
       "  A2_method  \n",
       "0      YOLO  \n",
       "1      YOLO  \n",
       "2      YOLO  \n",
       "3        LK  \n",
       "4        LK  "
      ]
     },
     "execution_count": 4,
     "metadata": {},
     "output_type": "execute_result"
    }
   ],
   "source": [
    "detections.head()"
   ]
  },
  {
   "cell_type": "code",
   "execution_count": 12,
   "metadata": {},
   "outputs": [
    {
     "data": {
      "text/plain": [
       "{'frame_no': 934,\n",
       " 'A1_x': 1803,\n",
       " 'A1_y': 407,\n",
       " 'A1_confidence': 0.8137478828430176,\n",
       " 'A1_method': 'YOLO',\n",
       " 'A2_x': 210,\n",
       " 'A2_y': 422,\n",
       " 'A2_confidence': 0.834425151348114,\n",
       " 'A2_method': 'YOLO'}"
      ]
     },
     "execution_count": 12,
     "metadata": {},
     "output_type": "execute_result"
    }
   ],
   "source": [
    "detection = detections.iloc[0]\n",
    "detection.to_dict()"
   ]
  },
  {
   "cell_type": "code",
   "execution_count": 7,
   "metadata": {},
   "outputs": [],
   "source": [
    "def load_stereo_a_maps():\n",
    "    file_path = f\"{root}/output/STEREO_A_rectification_params.xml\"\n",
    "    cv_file = cv2.FileStorage(file_path, cv2.FILE_STORAGE_READ)\n",
    "\n",
    "    stereo_maps = {\n",
    "        \"CAM_1_map_x\": cv_file.getNode(\"CAM_1_map_x\").mat(),\n",
    "        \"CAM_1_map_y\": cv_file.getNode(\"CAM_1_map_y\").mat(),\n",
    "        \"CAM_2_map_x\": cv_file.getNode(\"CAM_2_map_x\").mat(),\n",
    "        \"CAM_2_map_y\": cv_file.getNode(\"CAM_2_map_y\").mat(),\n",
    "        \"CAM_1_projection_matrix\": cv_file.getNode(\"CAM_1_projection_matrix\").mat(),\n",
    "        \"CAM_2_projection_matrix\": cv_file.getNode(\"CAM_2_projection_matrix\").mat(),\n",
    "        \"disparity_to_depth_matrix\": cv_file.getNode(\"disparity_to_depth_matrix\").mat(),\n",
    "        \"CAM_1_roi\": cv_file.getNode(\"CAM_1_roi\").mat(),\n",
    "        \"CAM_2_roi\": cv_file.getNode(\"CAM_2_roi\").mat(),\n",
    "    }\n",
    "\n",
    "    cv_file.release()\n",
    "    return stereo_maps"
   ]
  },
  {
   "cell_type": "code",
   "execution_count": 13,
   "metadata": {},
   "outputs": [
    {
     "name": "stdout",
     "output_type": "stream",
     "text": [
      "Map shapes: (2160, 3840), (2160, 3840)\n",
      "Map shapes: (2160, 3840), (2160, 3840)\n"
     ]
    }
   ],
   "source": [
    "# load intrinsics and extrinsics\n",
    "\n",
    "with open(f\"{root}/output/intrinsic_params.json\", \"r\") as f:\n",
    "    intrinsic_params = json.load(f)\n",
    "    \n",
    "with open(f\"{root}/output/1_stereo_params.json\", \"r\") as f:\n",
    "    stereo_params = json.load(f)\n",
    "    \n",
    "# necessary parameters\n",
    "K_cam1_undistort = np.array(intrinsic_params['CAM_1']['K_undistort'])\n",
    "D_cam1_undistort = np.array(intrinsic_params['CAM_1']['D'])\n",
    "\n",
    "K_cam2_undistort = np.array(intrinsic_params['CAM_2']['K_undistort'])\n",
    "D_cam2_undistort = np.array(intrinsic_params['CAM_2']['D'])\n",
    "\n",
    "stereo_maps = load_stereo_a_maps()\n",
    "x_map_cam1 = stereo_maps['CAM_1_map_x']\n",
    "y_map_cam1 = stereo_maps['CAM_1_map_y']\n",
    "\n",
    "print(f\"Map shapes: {x_map_cam1.shape}, {y_map_cam1.shape}\")\n",
    "\n",
    "\n",
    "P_cam1 = np.array(stereo_maps['CAM_1_projection_matrix'])\n",
    "P_cam2 = np.array(stereo_maps['CAM_2_projection_matrix'])\n",
    "\n",
    "x_map_cam2 = stereo_maps['CAM_2_map_x']\n",
    "y_map_cam2 = stereo_maps['CAM_2_map_y']\n",
    "\n",
    "print(f\"Map shapes: {x_map_cam2.shape}, {y_map_cam2.shape}\")\n",
    "\n"
   ]
  },
  {
   "cell_type": "code",
   "execution_count": 14,
   "metadata": {},
   "outputs": [
    {
     "data": {
      "text/plain": [
       "{'frame_no': 934,\n",
       " 'A1_x': 1803,\n",
       " 'A1_y': 407,\n",
       " 'A1_confidence': 0.8137478828430176,\n",
       " 'A1_method': 'YOLO',\n",
       " 'A2_x': 210,\n",
       " 'A2_y': 422,\n",
       " 'A2_confidence': 0.834425151348114,\n",
       " 'A2_method': 'YOLO'}"
      ]
     },
     "execution_count": 14,
     "metadata": {},
     "output_type": "execute_result"
    }
   ],
   "source": [
    "detection = detection.to_dict()\n",
    "detection"
   ]
  },
  {
   "cell_type": "code",
   "execution_count": 21,
   "metadata": {},
   "outputs": [
    {
     "name": "stdout",
     "output_type": "stream",
     "text": [
      "cam 1 undistorted: [[[3554.85302176  831.92979699]]]\n",
      "cam 2 undistorted: [[[398.58275221 851.09708965]]]\n",
      "points 3d: [[3748.34950574]\n",
      " [-489.86007363]\n",
      " [4286.8599816 ]]\n",
      "points 3d meters: [[ 3.74834951]\n",
      " [-0.48986007]\n",
      " [ 4.28685998]]\n"
     ]
    }
   ],
   "source": [
    "# TODO: get 2D coordinates from YOLO output\n",
    "# NOTE: measure = pixels\n",
    "scale_factor = 2 \n",
    "cam1_2d = (detection['A1_x'] * scale_factor, detection['A1_y'] * scale_factor)\n",
    "cam2_2d = (detection['A2_x'] * scale_factor, detection['A2_y'] * scale_factor)\n",
    "\n",
    "# TODO: undirtort the points\n",
    "# P to normalize the points into pixel coordinates\n",
    "undistorted_point_camera_1 = cv2.undistortPoints(cam1_2d, K_cam1_undistort, D_cam1_undistort, P=K_cam1_undistort)\n",
    "undistorted_point_camera_2 = cv2.undistortPoints(cam2_2d, K_cam2_undistort, D_cam2_undistort, P=K_cam2_undistort)\n",
    "print(f\"cam 1 undistorted: {undistorted_point_camera_1}\")\n",
    "print(f\"cam 2 undistorted: {undistorted_point_camera_2}\")\n",
    "\n",
    "# TODO: projection matrix\n",
    "P1 = np.dot(K_cam1_undistort, np.hstack((np.eye(3), np.zeros((3, 1)))))  # Camera 1's projection matrix\n",
    "R2 = np.array(stereo_params['STEREO_A']['rotation_matrix'])  # Rotation matrix from stereo extrinsics\n",
    "T2 = np.array(stereo_params['STEREO_A']['translation_vector'])  # Translation vector from stereo extrinsics\n",
    "P2 = np.dot(K_cam2_undistort, np.hstack((R2, T2)))  # Camera 2's projection matrix\n",
    "\n",
    "# TODO: triangulate\n",
    "points_3d_homogeneous = cv2.triangulatePoints(P1, P2, undistorted_point_camera_1, undistorted_point_camera_2)\n",
    "\n",
    "# TODO: convert to 3D points\n",
    "points_3d = points_3d_homogeneous[:3] / points_3d_homogeneous[3]\n",
    "print(f\"points 3d: {points_3d}\")\n",
    "points_3d_meters = points_3d / 1000.0\n",
    "print(f\"points 3d meters: {points_3d_meters}\")"
   ]
  },
  {
   "cell_type": "code",
   "execution_count": 22,
   "metadata": {},
   "outputs": [
    {
     "name": "stdout",
     "output_type": "stream",
     "text": [
      "reprojected point 1: [3551.61886594  822.31092233]\n",
      "reprojected point 2: [396.07100136 858.99408491]\n",
      "error 1: 10.14803003875915\n",
      "error 2: 8.28682245893773\n",
      "error 1 (cm): 2.6479378462650676\n",
      "error 2 (cm): 2.2297123378325963\n"
     ]
    }
   ],
   "source": [
    "threshold = 15  # threshold in pixels\n",
    "\n",
    "# Reproject 3D points (in mm) back to 2D\n",
    "reprojected_point_1 = np.dot(P1, np.vstack((points_3d, np.ones((1, points_3d.shape[1])))))\n",
    "reprojected_point_2 = np.dot(P2, np.vstack((points_3d, np.ones((1, points_3d.shape[1])))))\n",
    "\n",
    "reprojected_point_1 /= reprojected_point_1[2]\n",
    "reprojected_point_2 /= reprojected_point_2[2]\n",
    "\n",
    "# NOTE: ravel() method is used to convert the 2D array into a 1D array\n",
    "print(f\"reprojected point 1: {reprojected_point_1[:2].ravel()}\")\n",
    "print(f\"reprojected point 2: {reprojected_point_2[:2].ravel()}\")\n",
    "\n",
    "error1 = np.linalg.norm(reprojected_point_1[:2].ravel() - undistorted_point_camera_1.ravel())\n",
    "error2 = np.linalg.norm(reprojected_point_2[:2].ravel() - undistorted_point_camera_2.ravel())\n",
    "print(f\"error 1: {error1}\")\n",
    "print(f\"error 2: {error2}\")\n",
    "\n",
    "# TODO: formula for error in meters\n",
    "cam1_fx = intrinsic_params['CAM_1']['fx']\n",
    "cam2_fx = intrinsic_params['CAM_2']['fx']\n",
    "\n",
    "Z = points_3d[2][0]  # depth in mm\n",
    "\n",
    "error1_m = (error1 * Z) / (cam1_fx * 10) \n",
    "error2_m = (error2 * Z) / (cam2_fx * 10) \n",
    "\n",
    "print(f\"error 1 (cm): {error1_m}\")\n",
    "print(f\"error 2 (cm): {error2_m}\")\n",
    "\n",
    "if error1 > threshold or error2 > threshold:\n",
    "    print(\"Anomaly detected!\")"
   ]
  },
  {
   "cell_type": "code",
   "execution_count": 19,
   "metadata": {},
   "outputs": [
    {
     "name": "stderr",
     "output_type": "stream",
     "text": [
      "[ WARN:0@201.138] global loadsave.cpp:268 findDecoder imread_('/Users/damianstone/Documents/Code/tennis-project/post-triangulation/images/annotated_frames/frame_934/cam1.png'): can't open/read file: check file path/integrity\n",
      "[ WARN:0@201.139] global loadsave.cpp:268 findDecoder imread_('/Users/damianstone/Documents/Code/tennis-project/post-triangulation/images/annotated_frames/frame_934/cam2.png'): can't open/read file: check file path/integrity\n"
     ]
    },
    {
     "ename": "AttributeError",
     "evalue": "'NoneType' object has no attribute 'copy'",
     "output_type": "error",
     "traceback": [
      "\u001b[0;31m---------------------------------------------------------------------------\u001b[0m",
      "\u001b[0;31mAttributeError\u001b[0m                            Traceback (most recent call last)",
      "Cell \u001b[0;32mIn[19], line 21\u001b[0m\n\u001b[1;32m     18\u001b[0m     \u001b[38;5;28;01mreturn\u001b[39;00m frame_copy\n\u001b[1;32m     20\u001b[0m \u001b[38;5;66;03m# Plot on both frames\u001b[39;00m\n\u001b[0;32m---> 21\u001b[0m cam1_with_point \u001b[38;5;241m=\u001b[39m \u001b[43mplot_reprojected_point\u001b[49m\u001b[43m(\u001b[49m\u001b[43mcam1_frame\u001b[49m\u001b[43m,\u001b[49m\u001b[43m \u001b[49m\u001b[43mreprojected_point_1\u001b[49m\u001b[43m[\u001b[49m\u001b[43m:\u001b[49m\u001b[38;5;241;43m2\u001b[39;49m\u001b[43m]\u001b[49m\u001b[38;5;241;43m.\u001b[39;49m\u001b[43mravel\u001b[49m\u001b[43m(\u001b[49m\u001b[43m)\u001b[49m\u001b[43m)\u001b[49m\n\u001b[1;32m     22\u001b[0m cam2_with_point \u001b[38;5;241m=\u001b[39m plot_reprojected_point(cam2_frame, reprojected_point_2[:\u001b[38;5;241m2\u001b[39m]\u001b[38;5;241m.\u001b[39mravel())\n\u001b[1;32m     24\u001b[0m \u001b[38;5;66;03m# Display results\u001b[39;00m\n",
      "Cell \u001b[0;32mIn[19], line 16\u001b[0m, in \u001b[0;36mplot_reprojected_point\u001b[0;34m(frame, point, color, radius)\u001b[0m\n\u001b[1;32m     14\u001b[0m \u001b[38;5;28;01mdef\u001b[39;00m\u001b[38;5;250m \u001b[39m\u001b[38;5;21mplot_reprojected_point\u001b[39m(frame, point, color\u001b[38;5;241m=\u001b[39m(\u001b[38;5;241m0\u001b[39m, \u001b[38;5;241m0\u001b[39m, \u001b[38;5;241m255\u001b[39m), radius\u001b[38;5;241m=\u001b[39m\u001b[38;5;241m20\u001b[39m):\n\u001b[1;32m     15\u001b[0m \u001b[38;5;250m    \u001b[39m\u001b[38;5;124;03m\"\"\"Plot a single point on frame. point = (x,y), color in BGR\"\"\"\u001b[39;00m\n\u001b[0;32m---> 16\u001b[0m     frame_copy \u001b[38;5;241m=\u001b[39m \u001b[43mframe\u001b[49m\u001b[38;5;241;43m.\u001b[39;49m\u001b[43mcopy\u001b[49m()\n\u001b[1;32m     17\u001b[0m     cv2\u001b[38;5;241m.\u001b[39mcircle(frame_copy, (\u001b[38;5;28mint\u001b[39m(point[\u001b[38;5;241m0\u001b[39m]), \u001b[38;5;28mint\u001b[39m(point[\u001b[38;5;241m1\u001b[39m])), radius, color, \u001b[38;5;241m-\u001b[39m\u001b[38;5;241m1\u001b[39m)\n\u001b[1;32m     18\u001b[0m     \u001b[38;5;28;01mreturn\u001b[39;00m frame_copy\n",
      "\u001b[0;31mAttributeError\u001b[0m: 'NoneType' object has no attribute 'copy'"
     ]
    }
   ],
   "source": [
    "import matplotlib.pyplot as plt\n",
    "\n",
    "# TODO: using the reprojected points, plot the ball in the original frame \n",
    "frame_no = detection['frame_no']\n",
    "frame_folder = f\"{root}/images/annotated_frames/frame_{frame_no}\"\n",
    "cam1_frame = f\"{frame_folder}/cam1.png\"\n",
    "cam2_frame = f\"{frame_folder}/cam2.png\"\n",
    "\n",
    "# TODO: read the frames\n",
    "cam1_frame = cv2.imread(cam1_frame)\n",
    "cam2_frame = cv2.imread(cam2_frame)\n",
    "\n",
    "# Plot reprojected points on original frames\n",
    "def plot_reprojected_point(frame, point, color=(0, 0, 255), radius=20):\n",
    "    \"\"\"Plot a single point on frame. point = (x,y), color in BGR\"\"\"\n",
    "    frame_copy = frame.copy()\n",
    "    cv2.circle(frame_copy, (int(point[0]), int(point[1])), radius, color, -1)\n",
    "    return frame_copy\n",
    "\n",
    "# Plot on both frames\n",
    "cam1_with_point = plot_reprojected_point(cam1_frame, reprojected_point_1[:2].ravel())\n",
    "cam2_with_point = plot_reprojected_point(cam2_frame, reprojected_point_2[:2].ravel())\n",
    "\n",
    "# Display results\n",
    "plt.figure(figsize=(15, 15))\n",
    "plt.subplot(121)\n",
    "plt.imshow(cv2.cvtColor(cam1_with_point, cv2.COLOR_BGR2RGB))\n",
    "plt.title('Camera 1 - Reprojected Point')\n",
    "plt.axis('off')\n",
    "\n",
    "plt.subplot(122)\n",
    "plt.imshow(cv2.cvtColor(cam2_with_point, cv2.COLOR_BGR2RGB))\n",
    "plt.title('Camera 2 - Reprojected Point')\n",
    "plt.axis('off')\n",
    "\n",
    "plt.tight_layout()\n",
    "plt.show()\n",
    "\n"
   ]
  },
  {
   "cell_type": "code",
   "execution_count": 20,
   "metadata": {},
   "outputs": [
    {
     "data": {
      "image/png": "[encoded data removed]",
      "text/plain": [
       "<Figure size 1500x1000 with 1 Axes>"
      ]
     },
     "metadata": {},
     "output_type": "display_data"
    }
   ],
   "source": [
    "import numpy as np\n",
    "import matplotlib.pyplot as plt\n",
    "\n",
    "# Tennis court dimensions (in meters)\n",
    "court_length = 23.77\n",
    "doubles_width = 10.97\n",
    "net_height = 0.914\n",
    "service_box_length = 6.4\n",
    "service_box_width = 4.115\n",
    "tramline_width = 1.37\n",
    "\n",
    "# Flatten and convert triangulated point to meters\n",
    "ball_position = (points_3d.flatten()) / 1000.0\n",
    "\n",
    "# Create figure\n",
    "fig = plt.figure(figsize=(15, 10))\n",
    "ax = fig.add_subplot(111, projection=\"3d\")\n",
    "\n",
    "# Plot the tennis ball point\n",
    "ax.scatter(\n",
    "    ball_position[0], \n",
    "    ball_position[1], \n",
    "    ball_position[2], \n",
    "    marker=\"o\", \n",
    "    color=\"yellow\", \n",
    "    s=100,\n",
    "    label=\"Tennis Ball\"\n",
    ")\n",
    "\n",
    "# Court surface (X: length, Y: width)\n",
    "x_court = np.array([0, court_length])\n",
    "y_court = np.array([-doubles_width/2, doubles_width/2])\n",
    "X, Y = np.meshgrid(x_court, y_court)\n",
    "Z = np.zeros_like(X)\n",
    "ax.plot_surface(X, Y, Z, color=\"green\", alpha=0.5)\n",
    "\n",
    "# Tramlines\n",
    "ax.plot([0, court_length], [doubles_width/2 - tramline_width]*2, [0, 0], color=\"white\", linewidth=2)\n",
    "ax.plot([0, court_length], [-doubles_width/2 + tramline_width]*2, [0, 0], color=\"white\", linewidth=2)\n",
    "\n",
    "# Center line\n",
    "center_x = court_length / 2\n",
    "ax.plot(\n",
    "    [center_x, center_x],\n",
    "    [-service_box_width, service_box_width],\n",
    "    [0, 0],\n",
    "    color=\"white\",\n",
    "    linewidth=2\n",
    ")\n",
    "\n",
    "# Service box lines\n",
    "ax.plot([center_x - service_box_length, center_x - service_box_length],\n",
    "        [-service_box_width, service_box_width],\n",
    "        [0, 0], color=\"white\", linewidth=2)\n",
    "ax.plot([center_x + service_box_length, center_x + service_box_length],\n",
    "        [-service_box_width, service_box_width],\n",
    "        [0, 0], color=\"white\", linewidth=2)\n",
    "\n",
    "# Net\n",
    "ax.plot([center_x, center_x], [-doubles_width/2, doubles_width/2], [net_height, net_height], color=\"red\", linewidth=2, label=\"Net\")\n",
    "for y in [-doubles_width/2, doubles_width/2]:\n",
    "    ax.plot([center_x, center_x], [y, y], [0, net_height], color=\"red\")\n",
    "\n",
    "# Set plot limits\n",
    "ax.set_xlim([0, court_length])\n",
    "ax.set_ylim([-doubles_width/2, doubles_width/2])\n",
    "ax.set_zlim([0, 3])\n",
    "ax.set_box_aspect([court_length, doubles_width, 4])\n",
    "\n",
    "# Labels\n",
    "ax.set_xlabel(\"X (m)\")\n",
    "ax.set_ylabel(\"Y (m)\")\n",
    "ax.set_zlabel(\"Z (m)\")\n",
    "ax.set_title(\"3D Tennis Ball Position\")\n",
    "ax.legend()\n",
    "ax.grid(False)\n",
    "\n",
    "plt.show()\n"
   ]
  }
 ],
 "metadata": {
  "kernelspec": {
   "display_name": "venv-tp",
   "language": "python",
   "name": "python3"
  },
  "language_info": {
   "codemirror_mode": {
    "name": "ipython",
    "version": 3
   },
   "file_extension": ".py",
   "mimetype": "text/x-python",
   "name": "python",
   "nbconvert_exporter": "python",
   "pygments_lexer": "ipython3",
   "version": "3.12.0"
  }
 },
 "nbformat": 4,
 "nbformat_minor": 2
}
