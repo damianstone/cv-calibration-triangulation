{
 "cells": [
  {
   "cell_type": "markdown",
   "metadata": {},
   "source": [
    "## Explore YOLO output + triangulation"
   ]
  },
  {
   "cell_type": "code",
   "execution_count": 1,
   "metadata": {},
   "outputs": [],
   "source": [
    "import cv2\n",
    "import numpy as np\n",
    "import pandas as pd\n",
    "import os\n",
    "import glob\n",
    "import json\n",
    "import shutil\n",
    "import sys\n",
    "from pathlib import Path\n",
    "from tqdm import tqdm\n",
    "\n",
    "def find_project_root(marker=\".gitignore\"):\n",
    "    current = Path.cwd()\n",
    "    for parent in [current] + list(current.parents):\n",
    "        if (parent / marker).exists():\n",
    "            return parent.resolve()\n",
    "    raise FileNotFoundError(\n",
    "        f\"Project root marker '{marker}' not found starting from {current}\")\n",
    "    \n",
    "root = find_project_root()"
   ]
  },
  {
   "cell_type": "code",
   "execution_count": 2,
   "metadata": {},
   "outputs": [],
   "source": [
    "detections = pd.read_csv(f\"{root}/data/stereo_B_detections.csv\")"
   ]
  },
  {
   "cell_type": "code",
   "execution_count": 3,
   "metadata": {},
   "outputs": [
    {
     "data": {
      "text/html": [
       "<div>\n",
       "<style scoped>\n",
       "    .dataframe tbody tr th:only-of-type {\n",
       "        vertical-align: middle;\n",
       "    }\n",
       "\n",
       "    .dataframe tbody tr th {\n",
       "        vertical-align: top;\n",
       "    }\n",
       "\n",
       "    .dataframe thead th {\n",
       "        text-align: right;\n",
       "    }\n",
       "</style>\n",
       "<table border=\"1\" class=\"dataframe\">\n",
       "  <thead>\n",
       "    <tr style=\"text-align: right;\">\n",
       "      <th></th>\n",
       "      <th>Unnamed: 0</th>\n",
       "      <th>frame_no</th>\n",
       "      <th>B1_x</th>\n",
       "      <th>B1_y</th>\n",
       "      <th>B1_confidence</th>\n",
       "      <th>B1_method</th>\n",
       "      <th>B2_x</th>\n",
       "      <th>B2_y</th>\n",
       "      <th>B2_confidence</th>\n",
       "      <th>B2_method</th>\n",
       "    </tr>\n",
       "  </thead>\n",
       "  <tbody>\n",
       "    <tr>\n",
       "      <th>0</th>\n",
       "      <td>0</td>\n",
       "      <td>1061</td>\n",
       "      <td>16</td>\n",
       "      <td>374</td>\n",
       "      <td>0.797673</td>\n",
       "      <td>YOLO</td>\n",
       "      <td>1892</td>\n",
       "      <td>383</td>\n",
       "      <td>0.400000</td>\n",
       "      <td>LK</td>\n",
       "    </tr>\n",
       "    <tr>\n",
       "      <th>1</th>\n",
       "      <td>1</td>\n",
       "      <td>1062</td>\n",
       "      <td>71</td>\n",
       "      <td>383</td>\n",
       "      <td>0.832680</td>\n",
       "      <td>YOLO</td>\n",
       "      <td>1892</td>\n",
       "      <td>383</td>\n",
       "      <td>0.300000</td>\n",
       "      <td>LK</td>\n",
       "    </tr>\n",
       "    <tr>\n",
       "      <th>2</th>\n",
       "      <td>2</td>\n",
       "      <td>1063</td>\n",
       "      <td>60</td>\n",
       "      <td>382</td>\n",
       "      <td>0.400000</td>\n",
       "      <td>LK</td>\n",
       "      <td>1745</td>\n",
       "      <td>404</td>\n",
       "      <td>0.848748</td>\n",
       "      <td>YOLO</td>\n",
       "    </tr>\n",
       "    <tr>\n",
       "      <th>3</th>\n",
       "      <td>3</td>\n",
       "      <td>1064</td>\n",
       "      <td>178</td>\n",
       "      <td>402</td>\n",
       "      <td>0.845032</td>\n",
       "      <td>YOLO</td>\n",
       "      <td>1700</td>\n",
       "      <td>411</td>\n",
       "      <td>0.832230</td>\n",
       "      <td>YOLO</td>\n",
       "    </tr>\n",
       "    <tr>\n",
       "      <th>4</th>\n",
       "      <td>4</td>\n",
       "      <td>1065</td>\n",
       "      <td>225</td>\n",
       "      <td>410</td>\n",
       "      <td>0.840000</td>\n",
       "      <td>YOLO</td>\n",
       "      <td>1657</td>\n",
       "      <td>417</td>\n",
       "      <td>0.833924</td>\n",
       "      <td>YOLO</td>\n",
       "    </tr>\n",
       "  </tbody>\n",
       "</table>\n",
       "</div>"
      ],
      "text/plain": [
       "   Unnamed: 0  frame_no  B1_x  B1_y  B1_confidence B1_method  B2_x  B2_y  \\\n",
       "0           0      1061    16   374       0.797673      YOLO  1892   383   \n",
       "1           1      1062    71   383       0.832680      YOLO  1892   383   \n",
       "2           2      1063    60   382       0.400000        LK  1745   404   \n",
       "3           3      1064   178   402       0.845032      YOLO  1700   411   \n",
       "4           4      1065   225   410       0.840000      YOLO  1657   417   \n",
       "\n",
       "   B2_confidence B2_method  \n",
       "0       0.400000        LK  \n",
       "1       0.300000        LK  \n",
       "2       0.848748      YOLO  \n",
       "3       0.832230      YOLO  \n",
       "4       0.833924      YOLO  "
      ]
     },
     "execution_count": 3,
     "metadata": {},
     "output_type": "execute_result"
    }
   ],
   "source": [
    "detections.head()"
   ]
  },
  {
   "cell_type": "code",
   "execution_count": 4,
   "metadata": {},
   "outputs": [
    {
     "data": {
      "text/plain": [
       "{'Unnamed: 0': 1,\n",
       " 'frame_no': 1062,\n",
       " 'B1_x': 71,\n",
       " 'B1_y': 383,\n",
       " 'B1_confidence': 0.8326795697212219,\n",
       " 'B1_method': 'YOLO',\n",
       " 'B2_x': 1892,\n",
       " 'B2_y': 383,\n",
       " 'B2_confidence': 0.3,\n",
       " 'B2_method': 'LK'}"
      ]
     },
     "execution_count": 4,
     "metadata": {},
     "output_type": "execute_result"
    }
   ],
   "source": [
    "detection = detections.iloc[1]\n",
    "detection.to_dict()"
   ]
  },
  {
   "cell_type": "code",
   "execution_count": 5,
   "metadata": {},
   "outputs": [],
   "source": [
    "\n",
    "def load_stereo_a_maps():\n",
    "    file_path = f\"{root}/output/STEREO_A_rectification_params.xml\"\n",
    "    cv_file = cv2.FileStorage(file_path, cv2.FILE_STORAGE_READ)\n",
    "\n",
    "    stereo_maps = {\n",
    "        \"CAM_1_map_x\": cv_file.getNode(\"CAM_1_map_x\").mat(),\n",
    "        \"CAM_1_map_y\": cv_file.getNode(\"CAM_1_map_y\").mat(),\n",
    "        \"CAM_2_map_x\": cv_file.getNode(\"CAM_2_map_x\").mat(),\n",
    "        \"CAM_2_map_y\": cv_file.getNode(\"CAM_2_map_y\").mat(),\n",
    "        \"CAM_1_projection_matrix\": cv_file.getNode(\"CAM_1_projection_matrix\").mat(),\n",
    "        \"CAM_2_projection_matrix\": cv_file.getNode(\"CAM_2_projection_matrix\").mat(),\n",
    "        \"disparity_to_depth_matrix\": cv_file.getNode(\"disparity_to_depth_matrix\").mat(),\n",
    "        \"CAM_1_roi\": cv_file.getNode(\"CAM_1_roi\").mat(),\n",
    "        \"CAM_2_roi\": cv_file.getNode(\"CAM_2_roi\").mat(),\n",
    "    }\n",
    "\n",
    "    cv_file.release()\n",
    "    return stereo_maps\n",
    "\n",
    "def load_stereo_b_maps():\n",
    "    file_path = f\"{root}/output/STEREO_B_rectification_params_2.xml\"\n",
    "    cv_file = cv2.FileStorage(file_path, cv2.FILE_STORAGE_READ)\n",
    "\n",
    "    stereo_maps = {\n",
    "        \"CAM_3_map_x\": cv_file.getNode(\"CAM_3_map_x\").mat(),\n",
    "        \"CAM_3_map_y\": cv_file.getNode(\"CAM_3_map_y\").mat(),\n",
    "        \"CAM_4_map_x\": cv_file.getNode(\"CAM_4_map_x\").mat(),\n",
    "        \"CAM_4_map_y\": cv_file.getNode(\"CAM_4_map_y\").mat(),\n",
    "        \"CAM_3_projection_matrix\": cv_file.getNode(\"CAM_3_projection_matrix\").mat(),\n",
    "        \"CAM_4_projection_matrix\": cv_file.getNode(\"CAM_4_projection_matrix\").mat(),\n",
    "        \"disparity_to_depth_matrix\": cv_file.getNode(\"disparity_to_depth_matrix\").mat(),\n",
    "        \"CAM_3_roi\": cv_file.getNode(\"CAM_3_roi\").mat(),\n",
    "        \"CAM_4_roi\": cv_file.getNode(\"CAM_4_roi\").mat(),\n",
    "    }\n",
    "\n",
    "    cv_file.release()\n",
    "    return stereo_maps"
   ]
  },
  {
   "cell_type": "code",
   "execution_count": 6,
   "metadata": {},
   "outputs": [
    {
     "name": "stdout",
     "output_type": "stream",
     "text": [
      "Map shapes: (2160, 3840), (2160, 3840)\n",
      "Map shapes: (2160, 3840), (2160, 3840)\n",
      "Map shapes: (2160, 3840), (2160, 3840)\n",
      "Map shapes: (2160, 3840), (2160, 3840)\n"
     ]
    }
   ],
   "source": [
    "# load intrinsics and extrinsics\n",
    "\n",
    "with open(f\"{root}/output/intrinsic_params.json\", \"r\") as f:\n",
    "    intrinsic_params = json.load(f)\n",
    "    \n",
    "with open(f\"{root}/output/1_stereo_params.json\", \"r\") as f:\n",
    "    stereo_params = json.load(f)\n",
    "    \n",
    "# necessary parameters\n",
    "K_cam1_undistort = np.array(intrinsic_params['CAM_1']['K_undistort'])\n",
    "D_cam1_undistort = np.array(intrinsic_params['CAM_1']['D'])\n",
    "\n",
    "K_cam2_undistort = np.array(intrinsic_params['CAM_2']['K_undistort'])\n",
    "D_cam2_undistort = np.array(intrinsic_params['CAM_2']['D'])\n",
    "\n",
    "K_cam3_undistort = np.array(intrinsic_params['CAM_3']['K_undistort'])\n",
    "D_cam3_undistort = np.array(intrinsic_params['CAM_3']['D'])\n",
    "\n",
    "K_cam4_undistort = np.array(intrinsic_params['CAM_4']['K_undistort'])\n",
    "D_cam4_undistort = np.array(intrinsic_params['CAM_4']['D'])\n",
    "\n",
    "\n",
    "stereo_maps = load_stereo_a_maps()\n",
    "x_map_cam1 = stereo_maps['CAM_1_map_x']\n",
    "y_map_cam1 = stereo_maps['CAM_1_map_y']\n",
    "\n",
    "print(f\"Map shapes: {x_map_cam1.shape}, {y_map_cam1.shape}\")\n",
    "\n",
    "x_map_cam2 = stereo_maps['CAM_2_map_x']\n",
    "y_map_cam2 = stereo_maps['CAM_2_map_y']\n",
    "\n",
    "print(f\"Map shapes: {x_map_cam2.shape}, {y_map_cam2.shape}\")\n",
    "\n",
    "stereo_maps_b = load_stereo_b_maps()\n",
    "x_map_cam3 = stereo_maps_b['CAM_3_map_x']\n",
    "y_map_cam3 = stereo_maps_b['CAM_3_map_y']\n",
    "\n",
    "print(f\"Map shapes: {x_map_cam3.shape}, {y_map_cam3.shape}\")\n",
    "\n",
    "x_map_cam4 = stereo_maps_b['CAM_4_map_x']\n",
    "y_map_cam4 = stereo_maps_b['CAM_4_map_y']\n",
    "\n",
    "print(f\"Map shapes: {x_map_cam4.shape}, {y_map_cam4.shape}\")\n",
    "\n"
   ]
  },
  {
   "cell_type": "code",
   "execution_count": 7,
   "metadata": {},
   "outputs": [
    {
     "data": {
      "text/plain": [
       "{'Unnamed: 0': 1,\n",
       " 'frame_no': 1062,\n",
       " 'B1_x': 71,\n",
       " 'B1_y': 383,\n",
       " 'B1_confidence': 0.8326795697212219,\n",
       " 'B1_method': 'YOLO',\n",
       " 'B2_x': 1892,\n",
       " 'B2_y': 383,\n",
       " 'B2_confidence': 0.3,\n",
       " 'B2_method': 'LK'}"
      ]
     },
     "execution_count": 7,
     "metadata": {},
     "output_type": "execute_result"
    }
   ],
   "source": [
    "detection = detection.to_dict()\n",
    "detection"
   ]
  },
  {
   "cell_type": "code",
   "execution_count": 8,
   "metadata": {},
   "outputs": [
    {
     "name": "stdout",
     "output_type": "stream",
     "text": [
      "cam 3 undistorted: [[[142. 766.]]]\n",
      "cam 4 undistorted: [[[3767.1263821   769.89654481]]]\n",
      "points 3d: [[-5253.06075604]\n",
      " [ -570.80681729]\n",
      " [ 5035.84424053]]\n"
     ]
    }
   ],
   "source": [
    "# TODO: get 2D coordinates from YOLO output\n",
    "# NOTE: measure = pixels\n",
    "scale_factor = 2 \n",
    "cam3_2d = (detection['B1_x'] * scale_factor, detection['B1_y'] * scale_factor)\n",
    "cam4_2d = (detection['B2_x'] * scale_factor, detection['B2_y'] * scale_factor)\n",
    "\n",
    "# TODO: undirtort the points\n",
    "# P to normalize the points into pixel coordinates\n",
    "undistorted_point_camera_3 = cv2.undistortPoints(cam3_2d, K_cam3_undistort, D_cam3_undistort, P=K_cam3_undistort)\n",
    "undistorted_point_camera_4 = cv2.undistortPoints(cam4_2d, K_cam4_undistort, D_cam4_undistort, P=K_cam4_undistort)\n",
    "print(f\"cam 3 undistorted: {undistorted_point_camera_3}\")\n",
    "print(f\"cam 4 undistorted: {undistorted_point_camera_4}\")\n",
    "\n",
    "# TODO: projection matrix\n",
    "P1 = np.dot(K_cam3_undistort, np.hstack((np.eye(3), np.zeros((3, 1)))))\n",
    "R2 = np.array(stereo_params['STEREO_B']['rotation_matrix']) \n",
    "T2 = np.array(stereo_params['STEREO_B']['translation_vector']) \n",
    "P2 = np.dot(K_cam4_undistort, np.hstack((R2, T2)))  # Camera 2's projection matrix\n",
    "\n",
    "# TODO: triangulate\n",
    "points_3d_homogeneous = cv2.triangulatePoints(P1, P2, undistorted_point_camera_3, undistorted_point_camera_4)\n",
    "\n",
    "# TODO: convert to 3D points\n",
    "points_3d = points_3d_homogeneous[:3] / points_3d_homogeneous[3]\n",
    "print(f\"points 3d: {points_3d}\")"
   ]
  },
  {
   "cell_type": "code",
   "execution_count": 12,
   "metadata": {},
   "outputs": [
    {
     "name": "stdout",
     "output_type": "stream",
     "text": [
      "reprojected point 1: [203.65008615 602.78065921]\n",
      "reprojected point 2: [3832.98056363  920.31105558]\n",
      "error 1: 174.47431424269905\n",
      "error 2: 164.1989594227958\n",
      "error 1 (cm): 52.30889224329692\n",
      "error 2 (cm): 55.268097059729655\n",
      "Anomaly detected!\n"
     ]
    }
   ],
   "source": [
    "threshold = 15  # threshold in pixels\n",
    "\n",
    "# Reproject 3D points (in mm) back to 2D\n",
    "reprojected_point_1 = np.dot(P1, np.vstack((points_3d, np.ones((1, points_3d.shape[1])))))\n",
    "reprojected_point_2 = np.dot(P2, np.vstack((points_3d, np.ones((1, points_3d.shape[1])))))\n",
    "\n",
    "reprojected_point_1 /= reprojected_point_1[2]\n",
    "reprojected_point_2 /= reprojected_point_2[2]\n",
    "\n",
    "# NOTE: ravel() method is used to convert the 2D array into a 1D array\n",
    "print(f\"reprojected point 1: {reprojected_point_1[:2].ravel()}\")\n",
    "print(f\"reprojected point 2: {reprojected_point_2[:2].ravel()}\")\n",
    "\n",
    "error1 = np.linalg.norm(reprojected_point_1[:2].ravel() - undistorted_point_camera_3.ravel())\n",
    "error2 = np.linalg.norm(reprojected_point_2[:2].ravel() - undistorted_point_camera_4.ravel())\n",
    "print(f\"error 1: {error1}\")\n",
    "print(f\"error 2: {error2}\")\n",
    "\n",
    "# TODO: formula for error in meters\n",
    "cam1_fx = intrinsic_params['CAM_3']['fx']\n",
    "cam2_fx = intrinsic_params['CAM_4']['fx']\n",
    "\n",
    "Z = points_3d[2][0]  # depth in mm\n",
    "\n",
    "error1_m = (error1 * Z) / (cam1_fx * 10) \n",
    "error2_m = (error2 * Z) / (cam2_fx * 10) \n",
    "\n",
    "print(f\"error 1 (cm): {error1_m}\")\n",
    "print(f\"error 2 (cm): {error2_m}\")\n",
    "\n",
    "if error1 > threshold or error2 > threshold:\n",
    "    print(\"Anomaly detected!\")"
   ]
  }
 ],
 "metadata": {
  "kernelspec": {
   "display_name": "venv-tp",
   "language": "python",
   "name": "python3"
  },
  "language_info": {
   "codemirror_mode": {
    "name": "ipython",
    "version": 3
   },
   "file_extension": ".py",
   "mimetype": "text/x-python",
   "name": "python",
   "nbconvert_exporter": "python",
   "pygments_lexer": "ipython3",
   "version": "3.12.0"
  }
 },
 "nbformat": 4,
 "nbformat_minor": 2
}
