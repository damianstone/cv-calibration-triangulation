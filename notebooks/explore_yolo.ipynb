{
 "cells": [
  {
   "cell_type": "markdown",
   "metadata": {},
   "source": [
    "## Explore YOLO output"
   ]
  },
  {
   "cell_type": "code",
   "execution_count": 2,
   "metadata": {},
   "outputs": [],
   "source": [
    "import cv2\n",
    "import numpy as np\n",
    "import pandas as pd\n",
    "import os\n",
    "import glob\n",
    "import json\n",
    "import shutil\n",
    "import sys\n",
    "from pathlib import Path\n",
    "from tqdm import tqdm\n",
    "\n",
    "def find_project_root(marker=\".gitignore\"):\n",
    "    current = Path.cwd()\n",
    "    for parent in [current] + list(current.parents):\n",
    "        if (parent / marker).exists():\n",
    "            return parent.resolve()\n",
    "    raise FileNotFoundError(\n",
    "        f\"Project root marker '{marker}' not found starting from {current}\")\n",
    "    \n",
    "root = find_project_root()"
   ]
  },
  {
   "cell_type": "code",
   "execution_count": 3,
   "metadata": {},
   "outputs": [],
   "source": [
    "cam1_df = pd.read_csv(f\"{root}/data/camera_1.csv\")\n",
    "cam2_df = pd.read_csv(f\"{root}/data/camera_2.csv\")"
   ]
  },
  {
   "cell_type": "code",
   "execution_count": 4,
   "metadata": {},
   "outputs": [
    {
     "name": "stdout",
     "output_type": "stream",
     "text": [
      "Total records in cam1: 15391\n",
      "Total records in cam2: 4564\n",
      "Total unique frames in cam1: 15391\n",
      "Total unique frames in cam2: 4564\n"
     ]
    }
   ],
   "source": [
    "def print_df_info(df1, df2):\n",
    "    # total records\n",
    "    print(f\"Total records in cam1: {len(df1)}\")\n",
    "    print(f\"Total records in cam2: {len(df2)}\")\n",
    "    # total unique frames\n",
    "    print(f\"Total unique frames in cam1: {df1['frame_no'].nunique()}\")\n",
    "    print(f\"Total unique frames in cam2: {df2['frame_no'].nunique()}\")\n",
    "\n",
    "print_df_info(cam1_df, cam2_df)"
   ]
  },
  {
   "cell_type": "code",
   "execution_count": 5,
   "metadata": {},
   "outputs": [
    {
     "name": "stdout",
     "output_type": "stream",
     "text": [
      "      x     y    timestamp  frame_no  confidence detection_method  camera\n",
      "0  2567  1050  1550.000000      94.0    0.425080             YOLO       1\n",
      "1  2569  1050  1566.666667      95.0    0.502407             YOLO       1\n",
      "2  2573  1049  1583.333333      96.0    0.488850             YOLO       1\n",
      "3  2575  1048  1600.000000      97.0    0.492749             YOLO       1\n",
      "4  2578  1046  1616.666667      98.0    0.375369             YOLO       1\n",
      "     x    y     timestamp  frame_no  confidence detection_method  camera\n",
      "0  484  457  15533.333333     467.0    0.452926             YOLO       2\n",
      "1  251  427  15566.666667     468.0    0.483836             YOLO       2\n",
      "2  297  429  15600.000000     469.0    0.400000               LK       2\n",
      "3  297  429  15633.333333     470.0    0.300000               LK       2\n",
      "4  297  429  15666.666667     471.0    0.200000               LK       2\n"
     ]
    }
   ],
   "source": [
    "# sort by frame_no\n",
    "cam1_df = cam1_df.sort_values(by='frame_no')\n",
    "cam2_df = cam2_df.sort_values(by='frame_no')\n",
    "\n",
    "\n",
    "# print first 5 rows of each dataframe\n",
    "print(cam1_df.head())\n",
    "print(cam2_df.head())"
   ]
  },
  {
   "cell_type": "code",
   "execution_count": 40,
   "metadata": {},
   "outputs": [
    {
     "name": "stdout",
     "output_type": "stream",
     "text": [
      "{'x': 2569, 'y': 1050, 'timestamp': 1566.666666666667, 'frame_no': 95.0, 'confidence': 0.5024073123931885, 'detection_method': 'YOLO', 'camera': 1}\n",
      "{'x': 251, 'y': 427, 'timestamp': 15566.666666666666, 'frame_no': 468.0, 'confidence': 0.4838364422321319, 'detection_method': 'YOLO', 'camera': 2}\n"
     ]
    }
   ],
   "source": [
    "cam1_element = cam1_df.iloc[1].to_dict() # timestamp 1566.666667 \n",
    "print(cam1_element)\n",
    "\n",
    "cam2_element = cam2_df.iloc[1].to_dict() # timestamp 15566.666667\n",
    "print(cam2_element)\n",
    "\n"
   ]
  },
  {
   "cell_type": "code",
   "execution_count": 7,
   "metadata": {},
   "outputs": [],
   "source": [
    "def load_stereo_a_maps():\n",
    "    file_path = f\"{root}/output/STEREO_A_rectification_params.xml\"\n",
    "    cv_file = cv2.FileStorage(file_path, cv2.FILE_STORAGE_READ)\n",
    "\n",
    "    stereo_maps = {\n",
    "        \"CAM_1_map_x\": cv_file.getNode(\"CAM_1_map_x\").mat(),\n",
    "        \"CAM_1_map_y\": cv_file.getNode(\"CAM_1_map_y\").mat(),\n",
    "        \"CAM_2_map_x\": cv_file.getNode(\"CAM_2_map_x\").mat(),\n",
    "        \"CAM_2_map_y\": cv_file.getNode(\"CAM_2_map_y\").mat(),\n",
    "        \"CAM_1_projection_matrix\": cv_file.getNode(\"CAM_1_projection_matrix\").mat(),\n",
    "        \"CAM_2_projection_matrix\": cv_file.getNode(\"CAM_2_projection_matrix\").mat(),\n",
    "        \"disparity_to_depth_matrix\": cv_file.getNode(\"disparity_to_depth_matrix\").mat(),\n",
    "        \"CAM_1_roi\": cv_file.getNode(\"CAM_1_roi\").mat(),\n",
    "        \"CAM_2_roi\": cv_file.getNode(\"CAM_2_roi\").mat(),\n",
    "    }\n",
    "\n",
    "    cv_file.release()\n",
    "    return stereo_maps"
   ]
  },
  {
   "cell_type": "code",
   "execution_count": 8,
   "metadata": {},
   "outputs": [
    {
     "name": "stdout",
     "output_type": "stream",
     "text": [
      "Map shapes: (2160, 3840), (2160, 3840)\n",
      "Map shapes: (2160, 3840), (2160, 3840)\n"
     ]
    }
   ],
   "source": [
    "# load intrinsics and extrinsics\n",
    "\n",
    "with open(f\"{root}/output/intrinsic_params.json\", \"r\") as f:\n",
    "    intrinsic_params = json.load(f)\n",
    "    \n",
    "with open(f\"{root}/output/1_stereo_params.json\", \"r\") as f:\n",
    "    stereo_params = json.load(f)\n",
    "    \n",
    "# necessary parameters\n",
    "K_cam1_undistort = np.array(intrinsic_params['CAM_1']['K_undistort'])\n",
    "D_cam1_undistort = np.array(intrinsic_params['CAM_1']['D'])\n",
    "\n",
    "K_cam2_undistort = np.array(intrinsic_params['CAM_2']['K_undistort'])\n",
    "D_cam2_undistort = np.array(intrinsic_params['CAM_2']['D'])\n",
    "\n",
    "stereo_maps = load_stereo_a_maps()\n",
    "x_map_cam1 = stereo_maps['CAM_1_map_x']\n",
    "y_map_cam1 = stereo_maps['CAM_1_map_y']\n",
    "\n",
    "print(f\"Map shapes: {x_map_cam1.shape}, {y_map_cam1.shape}\")\n",
    "\n",
    "\n",
    "P_cam1 = np.array(stereo_maps['CAM_1_projection_matrix'])\n",
    "P_cam2 = np.array(stereo_maps['CAM_2_projection_matrix'])\n",
    "\n",
    "x_map_cam2 = stereo_maps['CAM_2_map_x']\n",
    "y_map_cam2 = stereo_maps['CAM_2_map_y']\n",
    "\n",
    "print(f\"Map shapes: {x_map_cam2.shape}, {y_map_cam2.shape}\")\n",
    "\n"
   ]
  },
  {
   "cell_type": "code",
   "execution_count": 47,
   "metadata": {},
   "outputs": [
    {
     "name": "stdout",
     "output_type": "stream",
     "text": [
      "cam 1 undistorted: [[[2563.13979095 1051.43508045]]]\n",
      "cam 2 undistorted: [[[261.67304207 441.80245944]]]\n",
      "points 3d: [[37252.63204383]\n",
      " [ 9925.9213036 ]\n",
      " [96443.29698413]]\n"
     ]
    }
   ],
   "source": [
    "# TODO: get 2D coordinates from YOLO output\n",
    "# NOTE: measure = pixels\n",
    "cam1_2d = (cam1_element['x'], cam1_element['y'])\n",
    "cam2_2d = (cam2_element['x'], cam2_element['y'])\n",
    "\n",
    "# TODO: undirtort the points\n",
    "# P to normalize the points into pixel coordinates\n",
    "undistorted_point_camera_1 = cv2.undistortPoints(cam1_2d, K_cam1_undistort, D_cam1_undistort, P=K_cam1_undistort)\n",
    "undistorted_point_camera_2 = cv2.undistortPoints(cam2_2d, K_cam2_undistort, D_cam2_undistort, P=K_cam2_undistort)\n",
    "print(f\"cam 1 undistorted: {undistorted_point_camera_1}\")\n",
    "print(f\"cam 2 undistorted: {undistorted_point_camera_2}\")\n",
    "\n",
    "# TODO: projection matrix\n",
    "P1 = np.dot(K_cam1_undistort, np.hstack((np.eye(3), np.zeros((3, 1)))))  # Camera 1's projection matrix\n",
    "R2 = np.array(stereo_params['STEREO_A']['rotation_matrix'])  # Rotation matrix from stereo extrinsics\n",
    "T2 = np.array(stereo_params['STEREO_A']['translation_vector'])  # Translation vector from stereo extrinsics\n",
    "P2 = np.dot(K_cam2_undistort, np.hstack((R2, T2)))  # Camera 2's projection matrix\n",
    "\n",
    "# TODO: triangulate\n",
    "points_3d_homogeneous = cv2.triangulatePoints(P1, P2, undistorted_point_camera_1, undistorted_point_camera_2)\n",
    "\n",
    "# TODO: convert to 3D points\n",
    "points_3d = points_3d_homogeneous[:3] / points_3d_homogeneous[3]\n",
    "print(f\"points 3d: {points_3d}\")\n"
   ]
  },
  {
   "cell_type": "code",
   "execution_count": 49,
   "metadata": {},
   "outputs": [
    {
     "name": "stdout",
     "output_type": "stream",
     "text": [
      "error 1: 2174.1676991445015\n",
      "error 2: 613.7843033361829\n",
      "Anomaly detected!\n"
     ]
    }
   ],
   "source": [
    "threshold = 15  # threshold in pixels\n",
    "\n",
    "# Use undistorted points as returned in pixel coordinates\n",
    "undistorted_point_camera_1_pixels = undistorted_point_camera_1  \n",
    "undistorted_point_camera_2_pixels = undistorted_point_camera_2  \n",
    "\n",
    "# Use projection matrices P1 and P2 as computed (no scaling)\n",
    "# Triangulation produced points_3d in world units (mm) but P1/P2 map from mm to pixels\n",
    "\n",
    "# Reproject 3D points (in mm) back to 2D\n",
    "reprojected_point_1 = np.dot(P1, np.vstack((points_3d, np.ones((1, points_3d.shape[1])))))\n",
    "reprojected_point_2 = np.dot(P2, np.vstack((points_3d, np.ones((1, points_3d.shape[1])))))\n",
    "\n",
    "reprojected_point_1 /= reprojected_point_1[2]\n",
    "reprojected_point_2 /= reprojected_point_2[2]\n",
    "\n",
    "error1 = np.linalg.norm(reprojected_point_1[:2] - undistorted_point_camera_1_pixels)\n",
    "error2 = np.linalg.norm(reprojected_point_2[:2] - undistorted_point_camera_2_pixels)\n",
    "print(f\"error 1: {error1}\")\n",
    "print(f\"error 2: {error2}\")\n",
    "\n",
    "if error1 > threshold or error2 > threshold:\n",
    "    print(\"Anomaly detected!\")"
   ]
  }
 ],
 "metadata": {
  "kernelspec": {
   "display_name": "venv-tp",
   "language": "python",
   "name": "python3"
  },
  "language_info": {
   "codemirror_mode": {
    "name": "ipython",
    "version": 3
   },
   "file_extension": ".py",
   "mimetype": "text/x-python",
   "name": "python",
   "nbconvert_exporter": "python",
   "pygments_lexer": "ipython3",
   "version": "3.12.0"
  }
 },
 "nbformat": 4,
 "nbformat_minor": 2
}
