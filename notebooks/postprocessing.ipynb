{
 "cells": [
  {
   "cell_type": "markdown",
   "metadata": {},
   "source": [
    "## Postprocessing techniques \n",
    "- all the 3d points are in pixel units, convert them to meters\n",
    "- **Pre-filter detections**: Keep only high-confidence YOLO detections.\n",
    "- **Temporal filtering**: Remove sudden 2D/3D jumps across frames.\n",
    "- **Spatial filtering**: Use RANSAC or median filtering on triangulated 3D points to reject outliers."
   ]
  },
  {
   "cell_type": "code",
   "execution_count": 2,
   "metadata": {},
   "outputs": [],
   "source": [
    "import cv2\n",
    "import numpy as np\n",
    "import pandas as pd\n",
    "import os\n",
    "import glob\n",
    "import json\n",
    "import shutil\n",
    "import sys\n",
    "from pathlib import Path\n",
    "from tqdm import tqdm\n",
    "\n",
    "def find_project_root(marker=\".gitignore\"):\n",
    "    current = Path.cwd()\n",
    "    for parent in [current] + list(current.parents):\n",
    "        if (parent / marker).exists():\n",
    "            return parent.resolve()\n",
    "    raise FileNotFoundError(\n",
    "        f\"Project root marker '{marker}' not found starting from {current}\")\n",
    "    \n",
    "root = find_project_root()"
   ]
  },
  {
   "cell_type": "code",
   "execution_count": 3,
   "metadata": {},
   "outputs": [
    {
     "data": {
      "text/html": [
       "<div>\n",
       "<style scoped>\n",
       "    .dataframe tbody tr th:only-of-type {\n",
       "        vertical-align: middle;\n",
       "    }\n",
       "\n",
       "    .dataframe tbody tr th {\n",
       "        vertical-align: top;\n",
       "    }\n",
       "\n",
       "    .dataframe thead th {\n",
       "        text-align: right;\n",
       "    }\n",
       "</style>\n",
       "<table border=\"1\" class=\"dataframe\">\n",
       "  <thead>\n",
       "    <tr style=\"text-align: right;\">\n",
       "      <th></th>\n",
       "      <th>frame_no</th>\n",
       "      <th>A1_x</th>\n",
       "      <th>A1_y</th>\n",
       "      <th>A1_confidence</th>\n",
       "      <th>A1_method</th>\n",
       "      <th>A2_x</th>\n",
       "      <th>A2_y</th>\n",
       "      <th>A2_confidence</th>\n",
       "      <th>A2_method</th>\n",
       "      <th>position_3d_pixels</th>\n",
       "      <th>A1_reprojected_point</th>\n",
       "      <th>A1_error_cm</th>\n",
       "      <th>A2_reprojected_point</th>\n",
       "      <th>A2_error_cm</th>\n",
       "      <th>anomaly_detected</th>\n",
       "    </tr>\n",
       "  </thead>\n",
       "  <tbody>\n",
       "    <tr>\n",
       "      <th>0</th>\n",
       "      <td>934</td>\n",
       "      <td>1803</td>\n",
       "      <td>407</td>\n",
       "      <td>0.813748</td>\n",
       "      <td>YOLO</td>\n",
       "      <td>210</td>\n",
       "      <td>422</td>\n",
       "      <td>0.834425</td>\n",
       "      <td>YOLO</td>\n",
       "      <td>[3748.3495057446603, -489.8600736323993, 4286....</td>\n",
       "      <td>[3551.6188659379995, 822.3109223279512]</td>\n",
       "      <td>2.647938</td>\n",
       "      <td>[396.0710013554253, 858.9940849055374]</td>\n",
       "      <td>2.229712</td>\n",
       "      <td>False</td>\n",
       "    </tr>\n",
       "    <tr>\n",
       "      <th>1</th>\n",
       "      <td>935</td>\n",
       "      <td>1749</td>\n",
       "      <td>415</td>\n",
       "      <td>0.813780</td>\n",
       "      <td>YOLO</td>\n",
       "      <td>255</td>\n",
       "      <td>428</td>\n",
       "      <td>0.818114</td>\n",
       "      <td>YOLO</td>\n",
       "      <td>[3491.8044435369134, -456.8706049838061, 4269....</td>\n",
       "      <td>[3454.0872424646295, 833.839275380029]</td>\n",
       "      <td>3.151088</td>\n",
       "      <td>[484.3695718286685, 870.7504879470371]</td>\n",
       "      <td>2.530507</td>\n",
       "      <td>False</td>\n",
       "    </tr>\n",
       "    <tr>\n",
       "      <th>2</th>\n",
       "      <td>936</td>\n",
       "      <td>1698</td>\n",
       "      <td>422</td>\n",
       "      <td>0.830572</td>\n",
       "      <td>YOLO</td>\n",
       "      <td>297</td>\n",
       "      <td>435</td>\n",
       "      <td>0.594926</td>\n",
       "      <td>YOLO</td>\n",
       "      <td>[3180.696395936944, -416.8508687861153, 4172.3...</td>\n",
       "      <td>[3358.021697409871, 845.1437835543601]</td>\n",
       "      <td>3.375053</td>\n",
       "      <td>[568.9181872174538, 883.7010581384234]</td>\n",
       "      <td>2.507850</td>\n",
       "      <td>False</td>\n",
       "    </tr>\n",
       "    <tr>\n",
       "      <th>3</th>\n",
       "      <td>937</td>\n",
       "      <td>1648</td>\n",
       "      <td>432</td>\n",
       "      <td>0.856475</td>\n",
       "      <td>YOLO</td>\n",
       "      <td>297</td>\n",
       "      <td>435</td>\n",
       "      <td>0.400000</td>\n",
       "      <td>LK</td>\n",
       "      <td>[3830.540950410358, -433.3902190764089, 5382.7...</td>\n",
       "      <td>[3270.413001279244, 875.979149815587]</td>\n",
       "      <td>0.425221</td>\n",
       "      <td>[574.026789475392, 873.9159351645243]</td>\n",
       "      <td>0.493932</td>\n",
       "      <td>False</td>\n",
       "    </tr>\n",
       "    <tr>\n",
       "      <th>4</th>\n",
       "      <td>939</td>\n",
       "      <td>1556</td>\n",
       "      <td>450</td>\n",
       "      <td>0.764029</td>\n",
       "      <td>YOLO</td>\n",
       "      <td>414</td>\n",
       "      <td>455</td>\n",
       "      <td>0.809630</td>\n",
       "      <td>YOLO</td>\n",
       "      <td>[4318.917969261239, -375.6324822078664, 7134.1...</td>\n",
       "      <td>[3086.846526035086, 920.2759911232957]</td>\n",
       "      <td>5.909021</td>\n",
       "      <td>[805.0513440083718, 890.3180059659129]</td>\n",
       "      <td>11.649348</td>\n",
       "      <td>True</td>\n",
       "    </tr>\n",
       "  </tbody>\n",
       "</table>\n",
       "</div>"
      ],
      "text/plain": [
       "   frame_no  A1_x  A1_y  A1_confidence A1_method  A2_x  A2_y  A2_confidence  \\\n",
       "0       934  1803   407       0.813748      YOLO   210   422       0.834425   \n",
       "1       935  1749   415       0.813780      YOLO   255   428       0.818114   \n",
       "2       936  1698   422       0.830572      YOLO   297   435       0.594926   \n",
       "3       937  1648   432       0.856475      YOLO   297   435       0.400000   \n",
       "4       939  1556   450       0.764029      YOLO   414   455       0.809630   \n",
       "\n",
       "  A2_method                                 position_3d_pixels  \\\n",
       "0      YOLO  [3748.3495057446603, -489.8600736323993, 4286....   \n",
       "1      YOLO  [3491.8044435369134, -456.8706049838061, 4269....   \n",
       "2      YOLO  [3180.696395936944, -416.8508687861153, 4172.3...   \n",
       "3        LK  [3830.540950410358, -433.3902190764089, 5382.7...   \n",
       "4      YOLO  [4318.917969261239, -375.6324822078664, 7134.1...   \n",
       "\n",
       "                      A1_reprojected_point  A1_error_cm  \\\n",
       "0  [3551.6188659379995, 822.3109223279512]     2.647938   \n",
       "1   [3454.0872424646295, 833.839275380029]     3.151088   \n",
       "2   [3358.021697409871, 845.1437835543601]     3.375053   \n",
       "3    [3270.413001279244, 875.979149815587]     0.425221   \n",
       "4   [3086.846526035086, 920.2759911232957]     5.909021   \n",
       "\n",
       "                     A2_reprojected_point  A2_error_cm  anomaly_detected  \n",
       "0  [396.0710013554253, 858.9940849055374]     2.229712             False  \n",
       "1  [484.3695718286685, 870.7504879470371]     2.530507             False  \n",
       "2  [568.9181872174538, 883.7010581384234]     2.507850             False  \n",
       "3   [574.026789475392, 873.9159351645243]     0.493932             False  \n",
       "4  [805.0513440083718, 890.3180059659129]    11.649348              True  "
      ]
     },
     "execution_count": 3,
     "metadata": {},
     "output_type": "execute_result"
    }
   ],
   "source": [
    "triangulation_results_path = f\"{root}/data/stereo_detections_triangulated.csv\"\n",
    "triangulation_results = pd.read_csv(triangulation_results_path)\n",
    "triangulation_results.head()"
   ]
  },
  {
   "cell_type": "code",
   "execution_count": 5,
   "metadata": {},
   "outputs": [
    {
     "data": {
      "text/plain": [
       "{'frame_no': 934,\n",
       " 'A1_x': 1803,\n",
       " 'A1_y': 407,\n",
       " 'A1_confidence': 0.8137478828430176,\n",
       " 'A1_method': 'YOLO',\n",
       " 'A2_x': 210,\n",
       " 'A2_y': 422,\n",
       " 'A2_confidence': 0.834425151348114,\n",
       " 'A2_method': 'YOLO',\n",
       " 'position_3d_pixels': '[3748.3495057446603, -489.8600736323993, 4286.859981600735]',\n",
       " 'A1_reprojected_point': '[3551.6188659379995, 822.3109223279512]',\n",
       " 'A1_error_cm': 2.647937846265068,\n",
       " 'A2_reprojected_point': '[396.0710013554253, 858.9940849055374]',\n",
       " 'A2_error_cm': 2.2297123378325963,\n",
       " 'anomaly_detected': False}"
      ]
     },
     "execution_count": 5,
     "metadata": {},
     "output_type": "execute_result"
    }
   ],
   "source": [
    "first = triangulation_results.iloc[0]\n",
    "first.to_dict()"
   ]
  },
  {
   "cell_type": "markdown",
   "metadata": {},
   "source": [
    "## RANSAC"
   ]
  },
  {
   "cell_type": "code",
   "execution_count": 6,
   "metadata": {},
   "outputs": [],
   "source": [
    "from sklearn.linear_model import RANSACRegressor\n",
    "from sklearn.preprocessing import PolynomialFeatures\n",
    "from sklearn.pipeline import make_pipeline\n",
    "\n",
    "\n",
    "def ransac_filter_3d_points(points_3d, max_iterations=100, threshold=0.1):\n",
    "    \"\"\"\n",
    "    Apply RANSAC to filter 3D points by fitting a polynomial trajectory.\n",
    "    points_3d: numpy array of shape (3, N) containing X,Y,Z coordinates\n",
    "    max_iterations: number of RANSAC iterations\n",
    "    threshold: maximum distance from polynomial to consider a point inlier. \n",
    "    smaller is more strict\n",
    "    \"\"\"\n",
    "    # Prepare data: use frame numbers as X and each coordinate as Y\n",
    "    n_points = points_3d.shape[1]\n",
    "    X = np.arange(n_points).reshape(-1, 1)\n",
    "    \n",
    "    # Create polynomial features\n",
    "    degree = 2  # quadratic trajectory\n",
    "    poly = PolynomialFeatures(degree=degree)\n",
    "    \n",
    "    # Fit RANSAC for each coordinate\n",
    "    inliers = np.ones(n_points, dtype=bool)\n",
    "    for coord in range(3):  # X, Y, Z\n",
    "        y = points_3d[coord]\n",
    "        ransac = RANSACRegressor(\n",
    "            random_state=42,\n",
    "            max_trials=max_iterations,\n",
    "            residual_threshold=threshold\n",
    "        )\n",
    "        model = make_pipeline(poly, ransac)\n",
    "        model.fit(X, y)\n",
    "        inliers &= ransac.inlier_mask_\n",
    "    \n",
    "    return points_3d[:, inliers], inliers"
   ]
  },
  {
   "cell_type": "code",
   "execution_count": 13,
   "metadata": {},
   "outputs": [
    {
     "name": "stdout",
     "output_type": "stream",
     "text": [
      "101\n",
      "3\n"
     ]
    }
   ],
   "source": [
    "print(len(triangulation_results))\n",
    "\n",
    "points_list = []\n",
    "for _, row in triangulation_results.iterrows():\n",
    "    pts = eval(row['position_3d_pixels'])\n",
    "    points_list.append(pts)\n",
    "\n",
    "\n",
    "points_3d = np.array(points_list).T  \n",
    "\n",
    "filtered_points, inliers_mask = ransac_filter_3d_points(points_3d, threshold=1000)\n",
    "\n",
    "print(len(filtered_points))"
   ]
  },
  {
   "cell_type": "code",
   "execution_count": 11,
   "metadata": {},
   "outputs": [
    {
     "data": {
      "text/plain": [
       "array([[ 3830.54095041,  4318.91796926,  2894.12212253,  2793.02592409,\n",
       "         3030.33269241,  3243.89640286,  3464.11748539,  3442.13566137,\n",
       "         4466.19001502,  4514.39631659,  3068.34478662, -4075.95545696,\n",
       "        -4173.41564742],\n",
       "       [ -433.39021908,  -375.63248221,  -176.77446406,  -706.46603979,\n",
       "         -688.06747269,  -658.87813024,  -631.1078881 ,  -606.35210622,\n",
       "         -423.78196043, -1004.05651201,  -982.34245116,   674.36166228,\n",
       "          672.80986006],\n",
       "       [ 5382.76462145,  7134.10779018,  6113.60491424,  5959.3709854 ,\n",
       "         5935.01667262,  5882.08028953,  5853.81274672,  5647.67496816,\n",
       "         5392.21631295,  6818.74097577,  6825.87940621,  9236.43946186,\n",
       "         9273.78150509]])"
      ]
     },
     "execution_count": 11,
     "metadata": {},
     "output_type": "execute_result"
    }
   ],
   "source": [
    "filtered_points"
   ]
  },
  {
   "cell_type": "code",
   "execution_count": 12,
   "metadata": {},
   "outputs": [
    {
     "data": {
      "text/plain": [
       "array([False, False, False,  True,  True, False,  True, False, False,\n",
       "       False, False, False, False, False, False, False, False, False,\n",
       "        True,  True,  True,  True,  True, False,  True, False, False,\n",
       "       False,  True, False, False, False,  True, False, False, False,\n",
       "       False, False, False, False, False, False, False, False, False,\n",
       "       False, False, False, False, False, False, False, False, False,\n",
       "       False, False, False, False, False, False, False, False, False,\n",
       "       False, False, False, False, False, False, False, False, False,\n",
       "       False, False, False, False, False, False, False, False, False,\n",
       "       False, False, False, False, False, False, False, False, False,\n",
       "       False, False, False, False, False, False, False, False,  True,\n",
       "        True, False])"
      ]
     },
     "execution_count": 12,
     "metadata": {},
     "output_type": "execute_result"
    }
   ],
   "source": [
    "inliers_mask"
   ]
  }
 ],
 "metadata": {
  "kernelspec": {
   "display_name": "venv-tp",
   "language": "python",
   "name": "python3"
  },
  "language_info": {
   "codemirror_mode": {
    "name": "ipython",
    "version": 3
   },
   "file_extension": ".py",
   "mimetype": "text/x-python",
   "name": "python",
   "nbconvert_exporter": "python",
   "pygments_lexer": "ipython3",
   "version": "3.12.0"
  }
 },
 "nbformat": 4,
 "nbformat_minor": 2
}
