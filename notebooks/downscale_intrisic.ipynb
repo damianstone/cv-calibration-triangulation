{
 "cells": [
  {
   "cell_type": "markdown",
   "metadata": {},
   "source": [
    "## Downscale intrinsic for new stereo B extrinsics"
   ]
  },
  {
   "cell_type": "code",
   "execution_count": 1,
   "metadata": {},
   "outputs": [],
   "source": [
    "import cv2\n",
    "import numpy as np\n",
    "import pandas as pd\n",
    "import os\n",
    "import glob\n",
    "import json\n",
    "import shutil\n",
    "import sys\n",
    "from pathlib import Path\n",
    "from tqdm import tqdm\n",
    "\n",
    "def find_project_root(marker=\".gitignore\"):\n",
    "    current = Path.cwd()\n",
    "    for parent in [current] + list(current.parents):\n",
    "        if (parent / marker).exists():\n",
    "            return parent.resolve()\n",
    "    raise FileNotFoundError(\n",
    "        f\"Project root marker '{marker}' not found starting from {current}\")\n",
    "    \n",
    "root = find_project_root()"
   ]
  },
  {
   "cell_type": "code",
   "execution_count": 3,
   "metadata": {},
   "outputs": [
    {
     "data": {
      "text/plain": [
       "{'fx': 1649.4381508720908,\n",
       " 'fy': 1643.2293130912683,\n",
       " 'cx': 1861.996578308323,\n",
       " 'cy': 1073.6248295269133,\n",
       " 'D': [0.04765917124161265,\n",
       "  -0.0811009010479358,\n",
       "  -0.0023832192453621184,\n",
       "  -0.009151200860058757,\n",
       "  -0.21526908351698],\n",
       " 'K': [[1649.4381508720908, 0.0, 1861.996578308323],\n",
       "  [0.0, 1643.2293130912683, 1073.6248295269133],\n",
       "  [0.0, 0.0, 1.0]],\n",
       " 'reprojection_error': 0.387,\n",
       " 'K_undistort': [[855.0935500588114, 0.0, 2814.0916859544327],\n",
       "  [0.0, 1551.6408639848426, 1061.444793350544],\n",
       "  [0.0, 0.0, 1.0]],\n",
       " 'roi_undistort': [1849, 48, 1990, 2039],\n",
       " 'count_bfore': 80,\n",
       " 'count_after': 22}"
      ]
     },
     "execution_count": 3,
     "metadata": {},
     "output_type": "execute_result"
    }
   ],
   "source": [
    "intrinsics_path = f\"{root}/output/intrinsic_params.json\"\n",
    "with open(intrinsics_path, 'r') as f:\n",
    "    intrinsic_params = json.load(f)\n",
    "\n",
    "cam3_intrinsics = intrinsic_params['CAM_3']\n",
    "cam4_intrinsics = intrinsic_params['CAM_4']\n",
    "\n",
    "cam3_intrinsics"
   ]
  },
  {
   "cell_type": "markdown",
   "metadata": {},
   "source": [
    "## From 4K to 1080"
   ]
  },
  {
   "cell_type": "code",
   "execution_count": 8,
   "metadata": {},
   "outputs": [],
   "source": [
    "def downscale_camera_intrinsics(calib, orig_res=(3840, 2160), new_res=(1920, 1080)):\n",
    "    scale_x = new_res[0] / orig_res[0]\n",
    "    scale_y = new_res[1] / orig_res[1]\n",
    "    print(scale_x, scale_y)\n",
    "\n",
    "    # Create a copy to modify (to avoid altering the input directly)\n",
    "    new_calib = calib.copy()\n",
    "\n",
    "    # Scale the principal camera parameters\n",
    "    if \"fx\" in calib:\n",
    "        new_calib[\"fx\"] = calib[\"fx\"] * scale_x\n",
    "    if \"fy\" in calib:\n",
    "        new_calib[\"fy\"] = calib[\"fy\"] * scale_y\n",
    "    if \"cx\" in calib:\n",
    "        new_calib[\"cx\"] = calib[\"cx\"] * scale_x\n",
    "    if \"cy\" in calib:\n",
    "        new_calib[\"cy\"] = calib[\"cy\"] * scale_y\n",
    "\n",
    "    # Scale the intrinsic matrix K.\n",
    "    if \"K\" in calib:\n",
    "        K = calib[\"K\"]\n",
    "        # Assuming K is a 3x3 list-of-lists\n",
    "        new_K = [\n",
    "            [K[0][0] * scale_x, K[0][1], K[0][2] * scale_x],\n",
    "            [K[1][0], K[1][1] * scale_y, K[1][2] * scale_y],\n",
    "            [K[2][0], K[2][1], K[2][2]]\n",
    "        ]\n",
    "        new_calib[\"K\"] = new_K\n",
    "\n",
    "    # Scale the undistorted camera matrix K_undistort.\n",
    "    if \"K_undistort\" in calib:\n",
    "        K_ud = calib[\"K_undistort\"]\n",
    "        new_K_ud = [\n",
    "            [K_ud[0][0] * scale_x, K_ud[0][1], K_ud[0][2] * scale_x],\n",
    "            [K_ud[1][0], K_ud[1][1] * scale_y, K_ud[1][2] * scale_y],\n",
    "            [K_ud[2][0], K_ud[2][1], K_ud[2][2]]\n",
    "        ]\n",
    "        new_calib[\"K_undistort\"] = new_K_ud\n",
    "\n",
    "    # Scale the ROI, if available. \n",
    "    # This code assumes that ROI is given either as [x, y, width, height] OR [x, y, x2, y2].\n",
    "    if \"roi_undistort\" in calib:\n",
    "        roi = calib[\"roi_undistort\"]\n",
    "        if len(roi) == 4:\n",
    "            # Check if ROI is in [x, y, width, height] or [x, y, x2, y2].\n",
    "            # We can use a heuristic: if (x + width) is less than new width, assume it's width.\n",
    "            if roi[0] + roi[2] <= orig_res[0] and roi[1] + roi[3] <= orig_res[1]:\n",
    "                # Format: [x, y, width, height]\n",
    "                new_roi = [\n",
    "                    roi[0] * scale_x,\n",
    "                    roi[1] * scale_y,\n",
    "                    roi[2] * scale_x,\n",
    "                    roi[3] * scale_y,\n",
    "                ]\n",
    "            else:\n",
    "                # Format: [x, y, x2, y2] (i.e. corner coordinates)\n",
    "                new_roi = [\n",
    "                    roi[0] * scale_x,\n",
    "                    roi[1] * scale_y,\n",
    "                    roi[2] * scale_x,\n",
    "                    roi[3] * scale_y,\n",
    "                ]\n",
    "            new_calib[\"roi_undistort\"] = new_roi\n",
    "\n",
    "    # The distortion coefficients D are typically dimensionless, so no scaling is applied.\n",
    "    # Other parameters (like reprojection_error, counts) are left unchanged.\n",
    "    return new_calib"
   ]
  },
  {
   "cell_type": "code",
   "execution_count": 9,
   "metadata": {},
   "outputs": [
    {
     "data": {
      "text/plain": [
       "{'fx': 1649.4381508720908,\n",
       " 'fy': 1643.2293130912683,\n",
       " 'cx': 1861.996578308323,\n",
       " 'cy': 1073.6248295269133,\n",
       " 'D': [0.04765917124161265,\n",
       "  -0.0811009010479358,\n",
       "  -0.0023832192453621184,\n",
       "  -0.009151200860058757,\n",
       "  -0.21526908351698],\n",
       " 'K': [[1649.4381508720908, 0.0, 1861.996578308323],\n",
       "  [0.0, 1643.2293130912683, 1073.6248295269133],\n",
       "  [0.0, 0.0, 1.0]],\n",
       " 'reprojection_error': 0.387,\n",
       " 'K_undistort': [[855.0935500588114, 0.0, 2814.0916859544327],\n",
       "  [0.0, 1551.6408639848426, 1061.444793350544],\n",
       "  [0.0, 0.0, 1.0]],\n",
       " 'roi_undistort': [1849, 48, 1990, 2039],\n",
       " 'count_bfore': 80,\n",
       " 'count_after': 22}"
      ]
     },
     "execution_count": 9,
     "metadata": {},
     "output_type": "execute_result"
    }
   ],
   "source": [
    "cam3_intrinsics"
   ]
  },
  {
   "cell_type": "code",
   "execution_count": 13,
   "metadata": {},
   "outputs": [
    {
     "name": "stdout",
     "output_type": "stream",
     "text": [
      "0.5 0.5\n"
     ]
    },
    {
     "data": {
      "text/plain": [
       "{'fx': 824.7190754360454,\n",
       " 'fy': 821.6146565456341,\n",
       " 'cx': 930.9982891541615,\n",
       " 'cy': 536.8124147634567,\n",
       " 'D': [0.04765917124161265,\n",
       "  -0.0811009010479358,\n",
       "  -0.0023832192453621184,\n",
       "  -0.009151200860058757,\n",
       "  -0.21526908351698],\n",
       " 'K': [[824.7190754360454, 0.0, 930.9982891541615],\n",
       "  [0.0, 821.6146565456341, 536.8124147634567],\n",
       "  [0.0, 0.0, 1.0]],\n",
       " 'reprojection_error': 0.387,\n",
       " 'K_undistort': [[427.5467750294057, 0.0, 1407.0458429772164],\n",
       "  [0.0, 775.8204319924213, 530.722396675272],\n",
       "  [0.0, 0.0, 1.0]],\n",
       " 'roi_undistort': [924.5, 24.0, 995.0, 1019.5],\n",
       " 'count_bfore': 80,\n",
       " 'count_after': 22}"
      ]
     },
     "execution_count": 13,
     "metadata": {},
     "output_type": "execute_result"
    }
   ],
   "source": [
    "new_cam3_intrinsics = downscale_camera_intrinsics(cam3_intrinsics, (3840, 2160), (1920, 1080))\n",
    "new_cam3_intrinsics"
   ]
  },
  {
   "cell_type": "code",
   "execution_count": 12,
   "metadata": {},
   "outputs": [
    {
     "name": "stdout",
     "output_type": "stream",
     "text": [
      "2.0 2.0\n"
     ]
    },
    {
     "data": {
      "text/plain": [
       "{'fx': 1649.4381508720908,\n",
       " 'fy': 1643.2293130912683,\n",
       " 'cx': 1861.996578308323,\n",
       " 'cy': 1073.6248295269133,\n",
       " 'D': [0.04765917124161265,\n",
       "  -0.0811009010479358,\n",
       "  -0.0023832192453621184,\n",
       "  -0.009151200860058757,\n",
       "  -0.21526908351698],\n",
       " 'K': [[1649.4381508720908, 0.0, 1861.996578308323],\n",
       "  [0.0, 1643.2293130912683, 1073.6248295269133],\n",
       "  [0.0, 0.0, 1.0]],\n",
       " 'reprojection_error': 0.387,\n",
       " 'K_undistort': [[855.0935500588114, 0.0, 2814.0916859544327],\n",
       "  [0.0, 1551.6408639848426, 1061.444793350544],\n",
       "  [0.0, 0.0, 1.0]],\n",
       " 'roi_undistort': [1849.0, 48.0, 1990.0, 2039.0],\n",
       " 'count_bfore': 80,\n",
       " 'count_after': 22}"
      ]
     },
     "execution_count": 12,
     "metadata": {},
     "output_type": "execute_result"
    }
   ],
   "source": [
    "cam3_upscaled = downscale_camera_intrinsics(new_cam3_intrinsics, (1920, 1080), (3840, 2160))\n",
    "cam3_upscaled"
   ]
  },
  {
   "cell_type": "code",
   "execution_count": 14,
   "metadata": {},
   "outputs": [
    {
     "name": "stdout",
     "output_type": "stream",
     "text": [
      "0.5 0.5\n",
      "0.5 0.5\n"
     ]
    }
   ],
   "source": [
    "cam3 = intrinsic_params['CAM_3']\n",
    "cam4 = intrinsic_params['CAM_4']\n",
    "cam3_1080_scale = downscale_camera_intrinsics(cam3, (3840, 2160), (1920, 1080))\n",
    "cam4_1080_scale = downscale_camera_intrinsics(cam4, (3840, 2160), (1920, 1080))\n",
    "intrinsic_params['CAM_3_1080'] = cam3_1080_scale\n",
    "intrinsic_params['CAM_4_1080'] = cam4_1080_scale\n",
    "\n",
    "# update the intrinsic_params.json file\n",
    "with open(intrinsics_path, 'w') as f:\n",
    "    json.dump(intrinsic_params, f)\n"
   ]
  }
 ],
 "metadata": {
  "kernelspec": {
   "display_name": "venv-tp",
   "language": "python",
   "name": "python3"
  },
  "language_info": {
   "codemirror_mode": {
    "name": "ipython",
    "version": 3
   },
   "file_extension": ".py",
   "mimetype": "text/x-python",
   "name": "python",
   "nbconvert_exporter": "python",
   "pygments_lexer": "ipython3",
   "version": "3.12.0"
  }
 },
 "nbformat": 4,
 "nbformat_minor": 2
}
