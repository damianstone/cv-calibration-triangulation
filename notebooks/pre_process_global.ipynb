{
 "cells": [
  {
   "cell_type": "code",
   "execution_count": 2,
   "metadata": {},
   "outputs": [],
   "source": [
    "import cv2\n",
    "import numpy as np\n",
    "import pandas as pd\n",
    "import os\n",
    "import glob\n",
    "import json\n",
    "import shutil\n",
    "import sys\n",
    "from pathlib import Path\n",
    "from tqdm import tqdm\n",
    "\n",
    "def find_project_root(marker=\".gitignore\"):\n",
    "    current = Path.cwd()\n",
    "    for parent in [current] + list(current.parents):\n",
    "        if (parent / marker).exists():\n",
    "            return parent.resolve()\n",
    "    raise FileNotFoundError(\n",
    "        f\"Project root marker '{marker}' not found starting from {current}\")\n",
    "    \n",
    "root = find_project_root()"
   ]
  },
  {
   "cell_type": "code",
   "execution_count": 3,
   "metadata": {},
   "outputs": [],
   "source": [
    "global_detections = pd.read_csv(f\"{root}/data/global_detections.csv\")\n",
    "# order by frame_no\n",
    "global_detections = global_detections.sort_values(by='frame_no')"
   ]
  },
  {
   "cell_type": "code",
   "execution_count": 4,
   "metadata": {},
   "outputs": [
    {
     "data": {
      "text/html": [
       "<div>\n",
       "<style scoped>\n",
       "    .dataframe tbody tr th:only-of-type {\n",
       "        vertical-align: middle;\n",
       "    }\n",
       "\n",
       "    .dataframe tbody tr th {\n",
       "        vertical-align: top;\n",
       "    }\n",
       "\n",
       "    .dataframe thead th {\n",
       "        text-align: right;\n",
       "    }\n",
       "</style>\n",
       "<table border=\"1\" class=\"dataframe\">\n",
       "  <thead>\n",
       "    <tr style=\"text-align: right;\">\n",
       "      <th></th>\n",
       "      <th>frame_no</th>\n",
       "      <th>A1_x</th>\n",
       "      <th>A1_y</th>\n",
       "      <th>A1_confidence</th>\n",
       "      <th>A2_x</th>\n",
       "      <th>A2_y</th>\n",
       "      <th>A2_confidence</th>\n",
       "      <th>B1_x</th>\n",
       "      <th>B1_y</th>\n",
       "      <th>B1_confidence</th>\n",
       "      <th>B2_x</th>\n",
       "      <th>B2_y</th>\n",
       "      <th>B2_confidence</th>\n",
       "    </tr>\n",
       "  </thead>\n",
       "  <tbody>\n",
       "    <tr>\n",
       "      <th>0</th>\n",
       "      <td>1048</td>\n",
       "      <td>1507</td>\n",
       "      <td>408</td>\n",
       "      <td>0.827627</td>\n",
       "      <td>442</td>\n",
       "      <td>406</td>\n",
       "      <td>0.816876</td>\n",
       "      <td>16</td>\n",
       "      <td>374</td>\n",
       "      <td>0.797673</td>\n",
       "      <td>1892</td>\n",
       "      <td>383</td>\n",
       "      <td>0.300000</td>\n",
       "    </tr>\n",
       "    <tr>\n",
       "      <th>1</th>\n",
       "      <td>1049</td>\n",
       "      <td>1545</td>\n",
       "      <td>410</td>\n",
       "      <td>0.805354</td>\n",
       "      <td>441</td>\n",
       "      <td>406</td>\n",
       "      <td>0.400000</td>\n",
       "      <td>71</td>\n",
       "      <td>383</td>\n",
       "      <td>0.832680</td>\n",
       "      <td>1745</td>\n",
       "      <td>404</td>\n",
       "      <td>0.848748</td>\n",
       "    </tr>\n",
       "  </tbody>\n",
       "</table>\n",
       "</div>"
      ],
      "text/plain": [
       "   frame_no  A1_x  A1_y  A1_confidence  A2_x  A2_y  A2_confidence  B1_x  B1_y  \\\n",
       "0      1048  1507   408       0.827627   442   406       0.816876    16   374   \n",
       "1      1049  1545   410       0.805354   441   406       0.400000    71   383   \n",
       "\n",
       "   B1_confidence  B2_x  B2_y  B2_confidence  \n",
       "0       0.797673  1892   383       0.300000  \n",
       "1       0.832680  1745   404       0.848748  "
      ]
     },
     "execution_count": 4,
     "metadata": {},
     "output_type": "execute_result"
    }
   ],
   "source": [
    "global_detections.head(2)"
   ]
  },
  {
   "cell_type": "code",
   "execution_count": 5,
   "metadata": {},
   "outputs": [],
   "source": [
    "# Dataset A\n",
    "dataset_A = global_detections[['frame_no', 'A1_x', 'A1_y', 'A1_confidence', 'A2_x', 'A2_y', 'A2_confidence']].copy()\n",
    "dataset_A['frame_no'] = dataset_A['frame_no'].astype(int)\n",
    "\n",
    "# Dataset B\n",
    "dataset_B = global_detections[['frame_no', 'B1_x', 'B1_y', 'B1_confidence', 'B2_x', 'B2_y', 'B2_confidence']].copy()\n",
    "dataset_B['frame_no'] = dataset_B['frame_no'].astype(int)\n",
    "\n",
    "# Save if needed\n",
    "dataset_A.to_csv(f\"{root}/data/global_A.csv\", index=False)\n",
    "dataset_B.to_csv(f\"{root}/data/global_B.csv\", index=False)"
   ]
  }
 ],
 "metadata": {
  "kernelspec": {
   "display_name": "venv-tp",
   "language": "python",
   "name": "python3"
  },
  "language_info": {
   "codemirror_mode": {
    "name": "ipython",
    "version": 3
   },
   "file_extension": ".py",
   "mimetype": "text/x-python",
   "name": "python",
   "nbconvert_exporter": "python",
   "pygments_lexer": "ipython3",
   "version": "3.12.0"
  }
 },
 "nbformat": 4,
 "nbformat_minor": 2
}
